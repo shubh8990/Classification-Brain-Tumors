{
 "metadata": {
  "language_info": {
   "codemirror_mode": {
    "name": "ipython",
    "version": 3
   },
   "file_extension": ".py",
   "mimetype": "text/x-python",
   "name": "python",
   "nbconvert_exporter": "python",
   "pygments_lexer": "ipython3",
   "version": "3.8.3-final"
  },
  "orig_nbformat": 2,
  "kernelspec": {
   "name": "Python 3.8.3 64-bit ('base': conda)",
   "display_name": "Python 3.8.3 64-bit ('base': conda)",
   "metadata": {
    "interpreter": {
     "hash": "5711503aa775ae4aab8b7e3d1867329870f2ef034b0c2bb5c88ae00369442dcf"
    }
   }
  }
 },
 "nbformat": 4,
 "nbformat_minor": 2,
 "cells": [
  {
   "cell_type": "markdown",
   "metadata": {},
   "source": [
    "# Classification Of Brain Tumors - Data Wrangling\n",
    "\n",
    "This Notebook is used to list down:\n",
    "\n",
    "1. How the Data for Test and Train sets was collected i.e, Data Sources.\n",
    "2. How the data has been organized for Training and Testing the model.\n",
    "3. What type of data is being used for the classifications.\n",
    "4. Data Cleaning."
   ]
  },
  {
   "cell_type": "markdown",
   "metadata": {},
   "source": [
    "## Step# 1: Downloading Data from Data Sources.\n",
    "\n",
    "            Data being used in this problem has been downloaded from the below locations and is already available for futher processing:\n",
    "\n",
    "            1. https://www.kaggle.com/navoneel/brain-mri-images-for-brain-tumor-detection?\n",
    "            2. https://www.kaggle.com/sartajbhuvaji/brain-tumor-classification-mri?\n"
   ]
  },
  {
   "cell_type": "markdown",
   "metadata": {},
   "source": [
    "## Step# 2: Organizing data into Logical folder structure from where the system will read the data and process it.\n",
    "\n",
    "            The downloaded data has been divided into 2 categories: \n",
    "                1. Yes - Containing images of the patients having a Brain Tumor.\n",
    "                2. No - Containing images of the patients having no Tumor.\n",
    "\n",
    "            These two folder have been placed inside a 'Data' folder."
   ]
  },
  {
   "cell_type": "markdown",
   "metadata": {},
   "source": [
    "    The Data for this problem will have the following Folder structure:\n",
    "\n",
    "    Work_Dir\n",
    "    |\n",
    "    |\n",
    "    |----> Data\n",
    "    |       |\n",
    "    |       |\n",
    "    |       |----> No\n",
    "    |       |\n",
    "    |       |\n",
    "    |       |----> Yes\n",
    "    |\n",
    "    |\n",
    "    |----> Train\n",
    "    |       |\n",
    "    |       |\n",
    "    |       |----> No\n",
    "    |       |\n",
    "    |       |\n",
    "    |       |----> Yes\n",
    "    |\n",
    "    |\n",
    "    |----> Test\n",
    "    |       |\n",
    "    |       |\n",
    "    |       |----> No\n",
    "    |       |\n",
    "    |       |\n",
    "    |       |----> Yes\n",
    "    \n",
    "    Thus, creating the required Folder structure."
   ]
  },
  {
   "cell_type": "code",
   "execution_count": 1,
   "metadata": {},
   "outputs": [],
   "source": [
    "#Importing the Required Python Packages\n",
    "import os\n",
    "import shutil\n",
    "import glob\n",
    "from PIL import Image"
   ]
  },
  {
   "cell_type": "markdown",
   "metadata": {},
   "source": [
    "Printing the Current Working Directory"
   ]
  },
  {
   "cell_type": "code",
   "execution_count": 2,
   "metadata": {
    "tags": []
   },
   "outputs": [
    {
     "output_type": "stream",
     "name": "stdout",
     "text": "d:\\Learning\\Springboard\\GitHub\\Classification-Brain-Tumors\n"
    }
   ],
   "source": [
    "print(os.getcwd())"
   ]
  },
  {
   "cell_type": "markdown",
   "metadata": {},
   "source": [
    "Printing the content of the Working Directory"
   ]
  },
  {
   "cell_type": "code",
   "execution_count": 3,
   "metadata": {
    "tags": []
   },
   "outputs": [
    {
     "output_type": "stream",
     "name": "stdout",
     "text": "[&#39;.git&#39;, &#39;Capstone 2 Project Proposal.pdf&#39;, &#39;Data&#39;, &#39;Data Wrangling.ipynb&#39;]\n"
    }
   ],
   "source": [
    "print(os.listdir())"
   ]
  },
  {
   "cell_type": "markdown",
   "metadata": {},
   "source": [
    "Data folder is already present here. Hence creating the remaining folder structure."
   ]
  },
  {
   "cell_type": "code",
   "execution_count": 4,
   "metadata": {},
   "outputs": [],
   "source": [
    "#Reading the current path in a variable\n",
    "path = os.getcwd()"
   ]
  },
  {
   "cell_type": "code",
   "execution_count": 5,
   "metadata": {},
   "outputs": [],
   "source": [
    "#Creating a folder by name Train\n",
    "os.mkdir(os.path.join(path, 'Train'))"
   ]
  },
  {
   "cell_type": "code",
   "execution_count": 6,
   "metadata": {},
   "outputs": [],
   "source": [
    "#Creating subfolders Yes and No inside the Train folder\n",
    "os.mkdir(os.path.join(path,'Train','Yes'))\n",
    "os.mkdir(os.path.join(path,'Train','No'))"
   ]
  },
  {
   "cell_type": "code",
   "execution_count": 7,
   "metadata": {},
   "outputs": [],
   "source": [
    "#Creating a folder by name Test\n",
    "os.mkdir(os.path.join(path, 'Test'))"
   ]
  },
  {
   "cell_type": "code",
   "execution_count": 8,
   "metadata": {},
   "outputs": [],
   "source": [
    "#Creating subfolders Yes and No inside the Test folder\n",
    "os.mkdir(os.path.join(path,'Test','Yes'))\n",
    "os.mkdir(os.path.join(path,'Test','No'))"
   ]
  },
  {
   "cell_type": "markdown",
   "metadata": {},
   "source": [
    "## Step# 3: Printing out all the different types of Image data we are goint to work with."
   ]
  },
  {
   "cell_type": "code",
   "execution_count": 9,
   "metadata": {
    "tags": []
   },
   "outputs": [
    {
     "output_type": "stream",
     "name": "stdout",
     "text": "[&#39;.jpg&#39;, &#39;.JPG&#39;, &#39;.png&#39;, &#39;.jpeg&#39;]\n"
    }
   ],
   "source": [
    "imageType = []\n",
    "#Fetching the different types of Images present in Data/Yes folder\n",
    "for fl in os.listdir(os.path.join(path,'Data','Yes')):\n",
    "    filename, fileExtension = os.path.splitext(fl)\n",
    "    if(fileExtension not in imageType):\n",
    "        imageType.append(fileExtension)\n",
    "\n",
    "#Fetching the different types of Images present in Data/No folder\n",
    "for fl in os.listdir(os.path.join(path,'Data','No')):\n",
    "    filename, fileExtension = os.path.splitext(fl)\n",
    "    if(fileExtension not in imageType):\n",
    "        imageType.append(fileExtension)\n",
    "\n",
    "#Printing the different types of Images present in the Dataset\n",
    "print(imageType)"
   ]
  },
  {
   "cell_type": "markdown",
   "metadata": {},
   "source": [
    "## Step# 4: Cleaning Data"
   ]
  },
  {
   "cell_type": "code",
   "execution_count": 10,
   "metadata": {},
   "outputs": [],
   "source": [
    "# Creating a copy of the Raw data by copying all the images from Data/Yes and Data/No folder to Train/Yes and Train/No Folders\n",
    "dataPath = os.path.join(path,'Data')\n",
    "trainPath = os.path.join(path,'Train')\n",
    "for fl in os.listdir(os.path.join(dataPath,'Yes')):\n",
    "    shutil.copy(os.path.join(dataPath, 'Yes', fl),os.path.join(trainPath,'Yes'))\n",
    "\n",
    "for fl in os.listdir(os.path.join(dataPath,'No')):\n",
    "    shutil.copy(os.path.join(dataPath, 'No', fl),os.path.join(trainPath,'No'))"
   ]
  },
  {
   "cell_type": "code",
   "execution_count": 11,
   "metadata": {},
   "outputs": [],
   "source": [
    "# Change the extension of all the images to a common format-JPG\n",
    "# Change the filenames to a sequence. Format: Y_seq# or N_seq#\n",
    "count = 1\n",
    "for fl in glob.iglob(os.path.join(trainPath,'Yes','*.*')):\n",
    "    img = Image.open(fl)\n",
    "    new_img = img.convert('RGB')\n",
    "    new_img.save(os.path.join(trainPath, 'Yes', 'Y_' + str(count) + '.JPG'))\n",
    "    os.remove(fl)\n",
    "    count = count + 1\n",
    "\n",
    "count = 1\n",
    "for fl in glob.iglob(os.path.join(trainPath,'No','*.*')):\n",
    "    img = Image.open(fl)\n",
    "    new_img = img.convert('RGB')\n",
    "    new_img.save(os.path.join(trainPath, 'No', 'N_' + str(count) + '.JPG'))\n",
    "    os.remove(fl)\n",
    "    count = count + 1"
   ]
  },
  {
   "cell_type": "code",
   "execution_count": 12,
   "metadata": {
    "tags": []
   },
   "outputs": [
    {
     "output_type": "stream",
     "name": "stdout",
     "text": "[&#39;.JPG&#39;]\n"
    }
   ],
   "source": [
    "# Again Printing the different types of Files we are working with\n",
    "imageType = []\n",
    "#Fetching the different types of Images present in Train/Yes folder\n",
    "for fl in os.listdir(os.path.join(trainPath,'Yes')):\n",
    "    filename, fileExtension = os.path.splitext(fl)\n",
    "    if(fileExtension not in imageType):\n",
    "        imageType.append(fileExtension)\n",
    "\n",
    "#Fetching the different types of Images present in Train/No folder\n",
    "for fl in os.listdir(os.path.join(trainPath,'No')):\n",
    "    filename, fileExtension = os.path.splitext(fl)\n",
    "    if(fileExtension not in imageType):\n",
    "        imageType.append(fileExtension)\n",
    "\n",
    "#Printing the different types of Images present in the Dataset\n",
    "print(imageType)"
   ]
  },
  {
   "cell_type": "markdown",
   "metadata": {},
   "source": [
    "### At this point the Data Wrangling has been completed and the resulting data is now ready for EDA"
   ]
  }
 ]
}