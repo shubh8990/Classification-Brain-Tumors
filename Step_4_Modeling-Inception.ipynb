{
  "nbformat": 4,
  "nbformat_minor": 0,
  "metadata": {
    "language_info": {
      "codemirror_mode": {
        "name": "ipython",
        "version": 3
      },
      "file_extension": ".py",
      "mimetype": "text/x-python",
      "name": "python",
      "nbconvert_exporter": "python",
      "pygments_lexer": "ipython3",
      "version": "3.8.3-final"
    },
    "orig_nbformat": 2,
    "kernelspec": {
      "name": "python3",
      "display_name": "Python 3.8.3 64-bit (conda)",
      "metadata": {
        "interpreter": {
          "hash": "5711503aa775ae4aab8b7e3d1867329870f2ef034b0c2bb5c88ae00369442dcf"
        }
      }
    },
    "colab": {
      "name": "Step-4 Modeling.ipynb",
      "provenance": [],
      "collapsed_sections": []
    }
  },
  "cells": [
    {
      "cell_type": "markdown",
      "metadata": {
        "id": "-vP2OdhBnS0r"
      },
      "source": [
        "# Classification Of Brain Tumors - Model Creation and Evaluation\n",
        "\n",
        "This notebook is the 4th Step in creating a working model for Brain Tumor Classification Problem and lists down the following:\n",
        "\n",
        "1. Create 2-3 different Models using CNN for your Train data and then Evaluate them on the Test Data."
      ]
    },
    {
      "cell_type": "code",
      "metadata": {
        "colab": {
          "base_uri": "https://localhost:8080/"
        },
        "id": "HDjnoUsznYs0",
        "outputId": "def421df-ace6-4b81-80c5-e8429d1a9cdd"
      },
      "source": [
        "from google.colab import drive\n",
        "drive.mount('/content/drive')"
      ],
      "execution_count": 1,
      "outputs": [
        {
          "output_type": "stream",
          "text": [
            "Drive already mounted at /content/drive; to attempt to forcibly remount, call drive.mount(\"/content/drive\", force_remount=True).\n"
          ],
          "name": "stdout"
        }
      ]
    },
    {
      "cell_type": "markdown",
      "metadata": {
        "id": "xlw50W7_nS0r"
      },
      "source": [
        "## Step-0: Installing the required libraries"
      ]
    },
    {
      "cell_type": "code",
      "metadata": {
        "colab": {
          "base_uri": "https://localhost:8080/"
        },
        "id": "ATmQ293TnS0s",
        "outputId": "a4bf84af-46fc-4386-a04e-01e0aa6dc1fc"
      },
      "source": [
        "#Installing Keras\n",
        "! pip install Keras"
      ],
      "execution_count": 2,
      "outputs": [
        {
          "output_type": "stream",
          "text": [
            "Requirement already satisfied: Keras in /usr/local/lib/python3.6/dist-packages (2.4.3)\n",
            "Requirement already satisfied: numpy>=1.9.1 in /usr/local/lib/python3.6/dist-packages (from Keras) (1.18.5)\n",
            "Requirement already satisfied: scipy>=0.14 in /usr/local/lib/python3.6/dist-packages (from Keras) (1.4.1)\n",
            "Requirement already satisfied: pyyaml in /usr/local/lib/python3.6/dist-packages (from Keras) (3.13)\n",
            "Requirement already satisfied: h5py in /usr/local/lib/python3.6/dist-packages (from Keras) (2.10.0)\n",
            "Requirement already satisfied: six in /usr/local/lib/python3.6/dist-packages (from h5py->Keras) (1.15.0)\n"
          ],
          "name": "stdout"
        }
      ]
    },
    {
      "cell_type": "code",
      "metadata": {
        "colab": {
          "base_uri": "https://localhost:8080/"
        },
        "id": "lcr4tYoMnS0t",
        "outputId": "7847c8f1-9fce-4c45-f7a8-010b5e1dc033"
      },
      "source": [
        "#Installing Tensorflow\n",
        "! pip install tensorflow"
      ],
      "execution_count": 3,
      "outputs": [
        {
          "output_type": "stream",
          "text": [
            "Requirement already satisfied: tensorflow in /usr/local/lib/python3.6/dist-packages (2.3.0)\n",
            "Requirement already satisfied: absl-py>=0.7.0 in /usr/local/lib/python3.6/dist-packages (from tensorflow) (0.10.0)\n",
            "Requirement already satisfied: wrapt>=1.11.1 in /usr/local/lib/python3.6/dist-packages (from tensorflow) (1.12.1)\n",
            "Requirement already satisfied: six>=1.12.0 in /usr/local/lib/python3.6/dist-packages (from tensorflow) (1.15.0)\n",
            "Requirement already satisfied: gast==0.3.3 in /usr/local/lib/python3.6/dist-packages (from tensorflow) (0.3.3)\n",
            "Requirement already satisfied: scipy==1.4.1 in /usr/local/lib/python3.6/dist-packages (from tensorflow) (1.4.1)\n",
            "Requirement already satisfied: grpcio>=1.8.6 in /usr/local/lib/python3.6/dist-packages (from tensorflow) (1.33.2)\n",
            "Requirement already satisfied: astunparse==1.6.3 in /usr/local/lib/python3.6/dist-packages (from tensorflow) (1.6.3)\n",
            "Requirement already satisfied: numpy<1.19.0,>=1.16.0 in /usr/local/lib/python3.6/dist-packages (from tensorflow) (1.18.5)\n",
            "Requirement already satisfied: h5py<2.11.0,>=2.10.0 in /usr/local/lib/python3.6/dist-packages (from tensorflow) (2.10.0)\n",
            "Requirement already satisfied: google-pasta>=0.1.8 in /usr/local/lib/python3.6/dist-packages (from tensorflow) (0.2.0)\n",
            "Requirement already satisfied: tensorboard<3,>=2.3.0 in /usr/local/lib/python3.6/dist-packages (from tensorflow) (2.3.0)\n",
            "Requirement already satisfied: tensorflow-estimator<2.4.0,>=2.3.0 in /usr/local/lib/python3.6/dist-packages (from tensorflow) (2.3.0)\n",
            "Requirement already satisfied: wheel>=0.26 in /usr/local/lib/python3.6/dist-packages (from tensorflow) (0.35.1)\n",
            "Requirement already satisfied: protobuf>=3.9.2 in /usr/local/lib/python3.6/dist-packages (from tensorflow) (3.12.4)\n",
            "Requirement already satisfied: keras-preprocessing<1.2,>=1.1.1 in /usr/local/lib/python3.6/dist-packages (from tensorflow) (1.1.2)\n",
            "Requirement already satisfied: opt-einsum>=2.3.2 in /usr/local/lib/python3.6/dist-packages (from tensorflow) (3.3.0)\n",
            "Requirement already satisfied: termcolor>=1.1.0 in /usr/local/lib/python3.6/dist-packages (from tensorflow) (1.1.0)\n",
            "Requirement already satisfied: tensorboard-plugin-wit>=1.6.0 in /usr/local/lib/python3.6/dist-packages (from tensorboard<3,>=2.3.0->tensorflow) (1.7.0)\n",
            "Requirement already satisfied: markdown>=2.6.8 in /usr/local/lib/python3.6/dist-packages (from tensorboard<3,>=2.3.0->tensorflow) (3.3.3)\n",
            "Requirement already satisfied: google-auth<2,>=1.6.3 in /usr/local/lib/python3.6/dist-packages (from tensorboard<3,>=2.3.0->tensorflow) (1.17.2)\n",
            "Requirement already satisfied: google-auth-oauthlib<0.5,>=0.4.1 in /usr/local/lib/python3.6/dist-packages (from tensorboard<3,>=2.3.0->tensorflow) (0.4.2)\n",
            "Requirement already satisfied: werkzeug>=0.11.15 in /usr/local/lib/python3.6/dist-packages (from tensorboard<3,>=2.3.0->tensorflow) (1.0.1)\n",
            "Requirement already satisfied: requests<3,>=2.21.0 in /usr/local/lib/python3.6/dist-packages (from tensorboard<3,>=2.3.0->tensorflow) (2.23.0)\n",
            "Requirement already satisfied: setuptools>=41.0.0 in /usr/local/lib/python3.6/dist-packages (from tensorboard<3,>=2.3.0->tensorflow) (50.3.2)\n",
            "Requirement already satisfied: importlib-metadata; python_version < \"3.8\" in /usr/local/lib/python3.6/dist-packages (from markdown>=2.6.8->tensorboard<3,>=2.3.0->tensorflow) (2.0.0)\n",
            "Requirement already satisfied: rsa<5,>=3.1.4; python_version >= \"3\" in /usr/local/lib/python3.6/dist-packages (from google-auth<2,>=1.6.3->tensorboard<3,>=2.3.0->tensorflow) (4.6)\n",
            "Requirement already satisfied: cachetools<5.0,>=2.0.0 in /usr/local/lib/python3.6/dist-packages (from google-auth<2,>=1.6.3->tensorboard<3,>=2.3.0->tensorflow) (4.1.1)\n",
            "Requirement already satisfied: pyasn1-modules>=0.2.1 in /usr/local/lib/python3.6/dist-packages (from google-auth<2,>=1.6.3->tensorboard<3,>=2.3.0->tensorflow) (0.2.8)\n",
            "Requirement already satisfied: requests-oauthlib>=0.7.0 in /usr/local/lib/python3.6/dist-packages (from google-auth-oauthlib<0.5,>=0.4.1->tensorboard<3,>=2.3.0->tensorflow) (1.3.0)\n",
            "Requirement already satisfied: certifi>=2017.4.17 in /usr/local/lib/python3.6/dist-packages (from requests<3,>=2.21.0->tensorboard<3,>=2.3.0->tensorflow) (2020.6.20)\n",
            "Requirement already satisfied: chardet<4,>=3.0.2 in /usr/local/lib/python3.6/dist-packages (from requests<3,>=2.21.0->tensorboard<3,>=2.3.0->tensorflow) (3.0.4)\n",
            "Requirement already satisfied: urllib3!=1.25.0,!=1.25.1,<1.26,>=1.21.1 in /usr/local/lib/python3.6/dist-packages (from requests<3,>=2.21.0->tensorboard<3,>=2.3.0->tensorflow) (1.24.3)\n",
            "Requirement already satisfied: idna<3,>=2.5 in /usr/local/lib/python3.6/dist-packages (from requests<3,>=2.21.0->tensorboard<3,>=2.3.0->tensorflow) (2.10)\n",
            "Requirement already satisfied: zipp>=0.5 in /usr/local/lib/python3.6/dist-packages (from importlib-metadata; python_version < \"3.8\"->markdown>=2.6.8->tensorboard<3,>=2.3.0->tensorflow) (3.4.0)\n",
            "Requirement already satisfied: pyasn1>=0.1.3 in /usr/local/lib/python3.6/dist-packages (from rsa<5,>=3.1.4; python_version >= \"3\"->google-auth<2,>=1.6.3->tensorboard<3,>=2.3.0->tensorflow) (0.4.8)\n",
            "Requirement already satisfied: oauthlib>=3.0.0 in /usr/local/lib/python3.6/dist-packages (from requests-oauthlib>=0.7.0->google-auth-oauthlib<0.5,>=0.4.1->tensorboard<3,>=2.3.0->tensorflow) (3.1.0)\n"
          ],
          "name": "stdout"
        }
      ]
    },
    {
      "cell_type": "markdown",
      "metadata": {
        "id": "bDxsD5bZnS0t"
      },
      "source": [
        "## Step-1: Loading the data into Dataframes"
      ]
    },
    {
      "cell_type": "code",
      "metadata": {
        "id": "fTHz2yZBnS0t"
      },
      "source": [
        "#load required python packages\n",
        "import os\n",
        "import shutil\n",
        "from os import listdir\n",
        "import pandas as pd\n",
        "import numpy as np\n",
        "import matplotlib.pyplot as plt\n",
        "from PIL import Image\n",
        "import seaborn as sns\n",
        "import keras\n",
        "from keras.models import Sequential, Model\n",
        "from keras.layers import Dense, Conv2D, MaxPool2D , Flatten, Input\n",
        "from keras.layers.merge import concatenate\n",
        "from keras.preprocessing.image import ImageDataGenerator\n",
        "from keras.preprocessing import image\n",
        "from keras.utils import plot_model\n",
        "%matplotlib inline"
      ],
      "execution_count": 1,
      "outputs": []
    },
    {
      "cell_type": "code",
      "metadata": {
        "tags": [],
        "colab": {
          "base_uri": "https://localhost:8080/"
        },
        "id": "HRi7QPIWnS0t",
        "outputId": "750f032b-51ef-455e-d2e5-7dd62588bbad"
      },
      "source": [
        "#Print the current working directory\n",
        "path = \"drive/MyDrive/Data\"\n",
        "print(path)"
      ],
      "execution_count": 2,
      "outputs": [
        {
          "output_type": "stream",
          "text": [
            "drive/MyDrive/Data\n"
          ],
          "name": "stdout"
        }
      ]
    },
    {
      "cell_type": "code",
      "metadata": {
        "id": "24gq_y7KnS0v"
      },
      "source": [
        "#Create 2 new Path variables so that they point to 'Train' and 'Test' Directories\n",
        "train_path = os.path.join(path,'Train')\n",
        "test_path = os.path.join(path,'Test')\n",
        "predict_path = os.path.join(path,'Prediction Images')"
      ],
      "execution_count": 3,
      "outputs": []
    },
    {
      "cell_type": "markdown",
      "metadata": {
        "id": "0U91kZdqnS0y"
      },
      "source": [
        "## Step-2: Creating 2nd Model- Inception v1"
      ]
    },
    {
      "cell_type": "code",
      "metadata": {
        "id": "bL_0pzWhXnxG",
        "colab": {
          "base_uri": "https://localhost:8080/"
        },
        "outputId": "5f1a9227-b5df-403e-9341-a5fef2cf0666"
      },
      "source": [
        "#Reading Images & Loading the image data from Train & Tests folder into a Dataframes\n",
        "train = ImageDataGenerator()\n",
        "train_df = train.flow_from_directory(train_path, target_size = (150,150))\n",
        "test = ImageDataGenerator()\n",
        "test_df = train.flow_from_directory(test_path, target_size = (150,150))"
      ],
      "execution_count": 7,
      "outputs": [
        {
          "output_type": "stream",
          "text": [
            "Found 2821 images belonging to 2 classes.\n",
            "Found 704 images belonging to 2 classes.\n"
          ],
          "name": "stdout"
        }
      ]
    },
    {
      "cell_type": "markdown",
      "metadata": {
        "id": "wEa88KJPnS0y"
      },
      "source": [
        "### Create a function for Inception block and Adding the below layers in the given order\n",
        "\n",
        "1. Convolution Layer of f1 channels of 1x1 kernal and same padding.\n",
        "2. Convolution Layer of f2 channels of 3x3 kernal and same padding.\n",
        "3. Convolution Layer of f3 channels of 5x5 kernal and same padding.\n",
        "4. Maxpool layer of 3x3 pool size and stride 1x1.\n",
        "5. Concatenate all the above layers.\n",
        "\n",
        "Each of these layers have a ReLu Activation as well so that negative values are not passed to the next layer."
      ]
    },
    {
      "cell_type": "code",
      "metadata": {
        "id": "6tuRlF4CnS0y"
      },
      "source": [
        "#Creating a Function for Inception Block\n",
        "def inception(layer_in):\n",
        "    conv1 = Conv2D(10, (1,1), padding='same', activation='relu')(layer_in)\n",
        "    conv1 = Conv2D(10, (3,3), padding='same', activation='relu')(conv1)\n",
        "\n",
        "    conv5 = Conv2D(10, (1,1), padding='same', activation='relu')(layer_in)\n",
        "    conv5 = Conv2D(10, (5,5), padding='same', activation='relu')(conv5)\n",
        "    \n",
        "    pool = MaxPool2D((3,3), strides=(1,1), padding='same')(layer_in)\n",
        "    pool = Conv2D(10, (1,1), padding='same', activation='relu')(pool)\n",
        "    layer_out = concatenate([conv1, conv5, pool], axis=3)\n",
        "    return layer_out"
      ],
      "execution_count": 8,
      "outputs": []
    },
    {
      "cell_type": "code",
      "metadata": {
        "id": "rx78taJpnS0y"
      },
      "source": [
        "# define model input\n",
        "visible = Input(shape=(150, 150, 3))\n",
        "# add inception module\n",
        "layer = inception(visible)\n",
        "#Flattening the layers\n",
        "flat_1 = Flatten()(layer)\n",
        "dense_2 = Dense(600, activation='relu')(flat_1)\n",
        "dense_3 = Dense(150, activation='relu')(dense_2)\n",
        "output = Dense(2, activation='softmax')(dense_3)"
      ],
      "execution_count": 9,
      "outputs": []
    },
    {
      "cell_type": "code",
      "metadata": {
        "id": "JXqbUyAQnS0y",
        "colab": {
          "base_uri": "https://localhost:8080/",
          "height": 1000
        },
        "outputId": "6f85ad7c-659f-4f92-a97c-282b2fda4d3d"
      },
      "source": [
        "# create model\n",
        "incep = Model([visible], output)\n",
        "#Compiling the created Model.\n",
        "incep.compile(optimizer = 'adam', loss = 'categorical_crossentropy', metrics = ['accuracy'])\n",
        "# summarize model\n",
        "incep.summary()\n",
        "# plot model architecture\n",
        "plot_model(incep, show_shapes=True, to_file='inception.png')"
      ],
      "execution_count": 10,
      "outputs": [
        {
          "output_type": "stream",
          "text": [
            "Model: \"functional_1\"\n",
            "__________________________________________________________________________________________________\n",
            "Layer (type)                    Output Shape         Param #     Connected to                     \n",
            "==================================================================================================\n",
            "input_1 (InputLayer)            [(None, 150, 150, 3) 0                                            \n",
            "__________________________________________________________________________________________________\n",
            "conv2d (Conv2D)                 (None, 150, 150, 10) 40          input_1[0][0]                    \n",
            "__________________________________________________________________________________________________\n",
            "conv2d_2 (Conv2D)               (None, 150, 150, 10) 40          input_1[0][0]                    \n",
            "__________________________________________________________________________________________________\n",
            "max_pooling2d (MaxPooling2D)    (None, 150, 150, 3)  0           input_1[0][0]                    \n",
            "__________________________________________________________________________________________________\n",
            "conv2d_1 (Conv2D)               (None, 150, 150, 10) 910         conv2d[0][0]                     \n",
            "__________________________________________________________________________________________________\n",
            "conv2d_3 (Conv2D)               (None, 150, 150, 10) 2510        conv2d_2[0][0]                   \n",
            "__________________________________________________________________________________________________\n",
            "conv2d_4 (Conv2D)               (None, 150, 150, 10) 40          max_pooling2d[0][0]              \n",
            "__________________________________________________________________________________________________\n",
            "concatenate (Concatenate)       (None, 150, 150, 30) 0           conv2d_1[0][0]                   \n",
            "                                                                 conv2d_3[0][0]                   \n",
            "                                                                 conv2d_4[0][0]                   \n",
            "__________________________________________________________________________________________________\n",
            "flatten (Flatten)               (None, 675000)       0           concatenate[0][0]                \n",
            "__________________________________________________________________________________________________\n",
            "dense (Dense)                   (None, 600)          405000600   flatten[0][0]                    \n",
            "__________________________________________________________________________________________________\n",
            "dense_1 (Dense)                 (None, 150)          90150       dense[0][0]                      \n",
            "__________________________________________________________________________________________________\n",
            "dense_2 (Dense)                 (None, 2)            302         dense_1[0][0]                    \n",
            "==================================================================================================\n",
            "Total params: 405,094,592\n",
            "Trainable params: 405,094,592\n",
            "Non-trainable params: 0\n",
            "__________________________________________________________________________________________________\n"
          ],
          "name": "stdout"
        },
        {
          "output_type": "execute_result",
          "data": {
            "image/png": "[encoded data removed]",
            "text/plain": [
              "<IPython.core.display.Image object>"
            ]
          },
          "metadata": {
            "tags": []
          },
          "execution_count": 10
        }
      ]
    },
    {
      "cell_type": "code",
      "metadata": {
        "id": "r1Y9lf7wnS0y",
        "colab": {
          "base_uri": "https://localhost:8080/"
        },
        "outputId": "306d342f-7f8e-4fbb-a925-fdfba66b4134"
      },
      "source": [
        "from keras.callbacks import ModelCheckpoint, EarlyStopping\n",
        "checkpoint_2 = ModelCheckpoint(\"inception_1.h5\", monitor='val_accuracy', verbose=1, save_best_only=True, save_weights_only=False, mode='auto')\n",
        "early_2 = EarlyStopping(monitor='val_accuracy', min_delta=0, patience=20, verbose=1, mode='auto')\n",
        "hist_2 = incep.fit_generator(steps_per_epoch=50,generator=train_df, validation_data= test_df, validation_steps=10,epochs=50,callbacks=[checkpoint_2,early_2])"
      ],
      "execution_count": 11,
      "outputs": [
        {
          "output_type": "stream",
          "text": [
            "WARNING:tensorflow:From <ipython-input-11-4ad7c6b0c3fa>:4: Model.fit_generator (from tensorflow.python.keras.engine.training) is deprecated and will be removed in a future version.\n",
            "Instructions for updating:\n",
            "Please use Model.fit, which supports generators.\n",
            "Epoch 1/50\n",
            "50/50 [==============================] - ETA: 0s - loss: 546.8133 - accuracy: 0.7237 \n",
            "Epoch 00001: val_accuracy improved from -inf to 0.85000, saving model to inception_1.h5\n",
            "50/50 [==============================] - 964s 19s/step - loss: 546.8133 - accuracy: 0.7237 - val_loss: 118.1802 - val_accuracy: 0.8500\n",
            "Epoch 2/50\n",
            "50/50 [==============================] - ETA: 0s - loss: 67.2729 - accuracy: 0.8417\n",
            "Epoch 00002: val_accuracy improved from 0.85000 to 0.90000, saving model to inception_1.h5\n",
            "50/50 [==============================] - 467s 9s/step - loss: 67.2729 - accuracy: 0.8417 - val_loss: 42.5822 - val_accuracy: 0.9000\n",
            "Epoch 3/50\n",
            "50/50 [==============================] - ETA: 0s - loss: 20.5497 - accuracy: 0.9019\n",
            "Epoch 00003: val_accuracy did not improve from 0.90000\n",
            "50/50 [==============================] - 292s 6s/step - loss: 20.5497 - accuracy: 0.9019 - val_loss: 37.5612 - val_accuracy: 0.8844\n",
            "Epoch 4/50\n",
            "50/50 [==============================] - ETA: 0s - loss: 6.7149 - accuracy: 0.9513\n",
            "Epoch 00004: val_accuracy did not improve from 0.90000\n",
            "50/50 [==============================] - 277s 6s/step - loss: 6.7149 - accuracy: 0.9513 - val_loss: 21.3596 - val_accuracy: 0.9000\n",
            "Epoch 5/50\n",
            "50/50 [==============================] - ETA: 0s - loss: 2.6674 - accuracy: 0.9752\n",
            "Epoch 00005: val_accuracy improved from 0.90000 to 0.95625, saving model to inception_1.h5\n",
            "50/50 [==============================] - 330s 7s/step - loss: 2.6674 - accuracy: 0.9752 - val_loss: 4.9423 - val_accuracy: 0.9563\n",
            "Epoch 6/50\n",
            "50/50 [==============================] - ETA: 0s - loss: 2.5166 - accuracy: 0.9706\n",
            "Epoch 00006: val_accuracy did not improve from 0.95625\n",
            "50/50 [==============================] - 268s 5s/step - loss: 2.5166 - accuracy: 0.9706 - val_loss: 13.8712 - val_accuracy: 0.9312\n",
            "Epoch 7/50\n",
            "50/50 [==============================] - ETA: 0s - loss: 2.6864 - accuracy: 0.9719\n",
            "Epoch 00007: val_accuracy did not improve from 0.95625\n",
            "50/50 [==============================] - 271s 5s/step - loss: 2.6864 - accuracy: 0.9719 - val_loss: 14.4003 - val_accuracy: 0.9344\n",
            "Epoch 8/50\n",
            "50/50 [==============================] - ETA: 0s - loss: 1.1038 - accuracy: 0.9879\n",
            "Epoch 00008: val_accuracy did not improve from 0.95625\n",
            "50/50 [==============================] - 264s 5s/step - loss: 1.1038 - accuracy: 0.9879 - val_loss: 13.4116 - val_accuracy: 0.9375\n",
            "Epoch 9/50\n",
            "50/50 [==============================] - ETA: 0s - loss: 4.5601 - accuracy: 0.9746\n",
            "Epoch 00009: val_accuracy did not improve from 0.95625\n",
            "50/50 [==============================] - 265s 5s/step - loss: 4.5601 - accuracy: 0.9746 - val_loss: 18.1710 - val_accuracy: 0.9250\n",
            "Epoch 10/50\n",
            "50/50 [==============================] - ETA: 0s - loss: 5.9699 - accuracy: 0.9536\n",
            "Epoch 00010: val_accuracy did not improve from 0.95625\n",
            "50/50 [==============================] - 265s 5s/step - loss: 5.9699 - accuracy: 0.9536 - val_loss: 17.3251 - val_accuracy: 0.9375\n",
            "Epoch 11/50\n",
            "50/50 [==============================] - ETA: 0s - loss: 1.0535 - accuracy: 0.9898\n",
            "Epoch 00011: val_accuracy did not improve from 0.95625\n",
            "50/50 [==============================] - 265s 5s/step - loss: 1.0535 - accuracy: 0.9898 - val_loss: 20.7384 - val_accuracy: 0.9312\n",
            "Epoch 12/50\n",
            "50/50 [==============================] - ETA: 0s - loss: 0.6878 - accuracy: 0.9911\n",
            "Epoch 00012: val_accuracy did not improve from 0.95625\n",
            "50/50 [==============================] - 264s 5s/step - loss: 0.6878 - accuracy: 0.9911 - val_loss: 10.5897 - val_accuracy: 0.9469\n",
            "Epoch 13/50\n",
            "50/50 [==============================] - ETA: 0s - loss: 0.1752 - accuracy: 0.9962\n",
            "Epoch 00013: val_accuracy did not improve from 0.95625\n",
            "50/50 [==============================] - 265s 5s/step - loss: 0.1752 - accuracy: 0.9962 - val_loss: 15.7976 - val_accuracy: 0.9531\n",
            "Epoch 14/50\n",
            "50/50 [==============================] - ETA: 0s - loss: 0.0598 - accuracy: 0.9987\n",
            "Epoch 00014: val_accuracy did not improve from 0.95625\n",
            "50/50 [==============================] - 265s 5s/step - loss: 0.0598 - accuracy: 0.9987 - val_loss: 14.9808 - val_accuracy: 0.9187\n",
            "Epoch 15/50\n",
            "50/50 [==============================] - ETA: 0s - loss: 0.0750 - accuracy: 0.9975\n",
            "Epoch 00015: val_accuracy did not improve from 0.95625\n",
            "50/50 [==============================] - 264s 5s/step - loss: 0.0750 - accuracy: 0.9975 - val_loss: 14.1323 - val_accuracy: 0.9344\n",
            "Epoch 16/50\n",
            "50/50 [==============================] - ETA: 0s - loss: 1.5589 - accuracy: 0.9862\n",
            "Epoch 00016: val_accuracy did not improve from 0.95625\n",
            "50/50 [==============================] - 262s 5s/step - loss: 1.5589 - accuracy: 0.9862 - val_loss: 10.7779 - val_accuracy: 0.9375\n",
            "Epoch 17/50\n",
            "50/50 [==============================] - ETA: 0s - loss: 0.8021 - accuracy: 0.9912\n",
            "Epoch 00017: val_accuracy did not improve from 0.95625\n",
            "50/50 [==============================] - 263s 5s/step - loss: 0.8021 - accuracy: 0.9912 - val_loss: 17.9808 - val_accuracy: 0.9406\n",
            "Epoch 18/50\n",
            "50/50 [==============================] - ETA: 0s - loss: 3.0548 - accuracy: 0.9781\n",
            "Epoch 00018: val_accuracy did not improve from 0.95625\n",
            "50/50 [==============================] - 261s 5s/step - loss: 3.0548 - accuracy: 0.9781 - val_loss: 11.6741 - val_accuracy: 0.9406\n",
            "Epoch 19/50\n",
            "50/50 [==============================] - ETA: 0s - loss: 2.6263 - accuracy: 0.9806\n",
            "Epoch 00019: val_accuracy did not improve from 0.95625\n",
            "50/50 [==============================] - 261s 5s/step - loss: 2.6263 - accuracy: 0.9806 - val_loss: 30.8491 - val_accuracy: 0.9187\n",
            "Epoch 20/50\n",
            "50/50 [==============================] - ETA: 0s - loss: 1.1942 - accuracy: 0.9905\n",
            "Epoch 00020: val_accuracy did not improve from 0.95625\n",
            "50/50 [==============================] - 260s 5s/step - loss: 1.1942 - accuracy: 0.9905 - val_loss: 18.9741 - val_accuracy: 0.9344\n",
            "Epoch 21/50\n",
            "50/50 [==============================] - ETA: 0s - loss: 0.3234 - accuracy: 0.9949\n",
            "Epoch 00021: val_accuracy improved from 0.95625 to 0.96250, saving model to inception_1.h5\n",
            "50/50 [==============================] - 322s 6s/step - loss: 0.3234 - accuracy: 0.9949 - val_loss: 7.5182 - val_accuracy: 0.9625\n",
            "Epoch 22/50\n",
            "50/50 [==============================] - ETA: 0s - loss: 0.4275 - accuracy: 0.9955\n",
            "Epoch 00022: val_accuracy did not improve from 0.96250\n",
            "50/50 [==============================] - 261s 5s/step - loss: 0.4275 - accuracy: 0.9955 - val_loss: 14.0286 - val_accuracy: 0.9438\n",
            "Epoch 23/50\n",
            "50/50 [==============================] - ETA: 0s - loss: 0.0271 - accuracy: 0.9994\n",
            "Epoch 00023: val_accuracy did not improve from 0.96250\n",
            "50/50 [==============================] - 261s 5s/step - loss: 0.0271 - accuracy: 0.9994 - val_loss: 21.0831 - val_accuracy: 0.9375\n",
            "Epoch 24/50\n",
            "50/50 [==============================] - ETA: 0s - loss: 0.0000e+00 - accuracy: 1.0000\n",
            "Epoch 00024: val_accuracy did not improve from 0.96250\n",
            "50/50 [==============================] - 262s 5s/step - loss: 0.0000e+00 - accuracy: 1.0000 - val_loss: 19.5370 - val_accuracy: 0.9469\n",
            "Epoch 25/50\n",
            "50/50 [==============================] - ETA: 0s - loss: 0.0000e+00 - accuracy: 1.0000\n",
            "Epoch 00025: val_accuracy did not improve from 0.96250\n",
            "50/50 [==============================] - 261s 5s/step - loss: 0.0000e+00 - accuracy: 1.0000 - val_loss: 19.7582 - val_accuracy: 0.9375\n",
            "Epoch 26/50\n",
            "50/50 [==============================] - ETA: 0s - loss: 0.0000e+00 - accuracy: 1.0000\n",
            "Epoch 00026: val_accuracy did not improve from 0.96250\n",
            "50/50 [==============================] - 262s 5s/step - loss: 0.0000e+00 - accuracy: 1.0000 - val_loss: 16.5256 - val_accuracy: 0.9438\n",
            "Epoch 27/50\n",
            "50/50 [==============================] - ETA: 0s - loss: 0.1891 - accuracy: 0.9987\n",
            "Epoch 00027: val_accuracy did not improve from 0.96250\n",
            "50/50 [==============================] - 261s 5s/step - loss: 0.1891 - accuracy: 0.9987 - val_loss: 14.9962 - val_accuracy: 0.9406\n",
            "Epoch 28/50\n",
            "50/50 [==============================] - ETA: 0s - loss: 0.0096 - accuracy: 0.9987\n",
            "Epoch 00028: val_accuracy did not improve from 0.96250\n",
            "50/50 [==============================] - 261s 5s/step - loss: 0.0096 - accuracy: 0.9987 - val_loss: 15.7531 - val_accuracy: 0.9438\n",
            "Epoch 29/50\n",
            "50/50 [==============================] - ETA: 0s - loss: 0.1172 - accuracy: 0.9968\n",
            "Epoch 00029: val_accuracy did not improve from 0.96250\n",
            "50/50 [==============================] - 260s 5s/step - loss: 0.1172 - accuracy: 0.9968 - val_loss: 15.0175 - val_accuracy: 0.9438\n",
            "Epoch 30/50\n",
            "50/50 [==============================] - ETA: 0s - loss: 0.1343 - accuracy: 0.9981\n",
            "Epoch 00030: val_accuracy did not improve from 0.96250\n",
            "50/50 [==============================] - 259s 5s/step - loss: 0.1343 - accuracy: 0.9981 - val_loss: 12.5524 - val_accuracy: 0.9438\n",
            "Epoch 31/50\n",
            "50/50 [==============================] - ETA: 0s - loss: 0.0380 - accuracy: 0.9987\n",
            "Epoch 00031: val_accuracy did not improve from 0.96250\n",
            "50/50 [==============================] - 259s 5s/step - loss: 0.0380 - accuracy: 0.9987 - val_loss: 14.1911 - val_accuracy: 0.9406\n",
            "Epoch 32/50\n",
            "50/50 [==============================] - ETA: 0s - loss: 0.1421 - accuracy: 0.9969\n",
            "Epoch 00032: val_accuracy did not improve from 0.96250\n",
            "50/50 [==============================] - 258s 5s/step - loss: 0.1421 - accuracy: 0.9969 - val_loss: 18.6775 - val_accuracy: 0.9344\n",
            "Epoch 33/50\n",
            "50/50 [==============================] - ETA: 0s - loss: 0.2059 - accuracy: 0.9975\n",
            "Epoch 00033: val_accuracy did not improve from 0.96250\n",
            "50/50 [==============================] - 259s 5s/step - loss: 0.2059 - accuracy: 0.9975 - val_loss: 23.4536 - val_accuracy: 0.9281\n",
            "Epoch 34/50\n",
            "50/50 [==============================] - ETA: 0s - loss: 0.0915 - accuracy: 0.9987\n",
            "Epoch 00034: val_accuracy did not improve from 0.96250\n",
            "50/50 [==============================] - 259s 5s/step - loss: 0.0915 - accuracy: 0.9987 - val_loss: 19.2998 - val_accuracy: 0.9406\n",
            "Epoch 35/50\n",
            "50/50 [==============================] - ETA: 0s - loss: 0.1495 - accuracy: 0.9969\n",
            "Epoch 00035: val_accuracy did not improve from 0.96250\n",
            "50/50 [==============================] - 259s 5s/step - loss: 0.1495 - accuracy: 0.9969 - val_loss: 18.6557 - val_accuracy: 0.9438\n",
            "Epoch 36/50\n",
            "50/50 [==============================] - ETA: 0s - loss: 0.0000e+00 - accuracy: 1.0000\n",
            "Epoch 00036: val_accuracy did not improve from 0.96250\n",
            "50/50 [==============================] - 259s 5s/step - loss: 0.0000e+00 - accuracy: 1.0000 - val_loss: 13.4021 - val_accuracy: 0.9594\n",
            "Epoch 37/50\n",
            "50/50 [==============================] - ETA: 0s - loss: 0.5258 - accuracy: 0.9949\n",
            "Epoch 00037: val_accuracy did not improve from 0.96250\n",
            "50/50 [==============================] - 259s 5s/step - loss: 0.5258 - accuracy: 0.9949 - val_loss: 16.2093 - val_accuracy: 0.9500\n",
            "Epoch 38/50\n",
            "50/50 [==============================] - ETA: 0s - loss: 0.4315 - accuracy: 0.9955\n",
            "Epoch 00038: val_accuracy did not improve from 0.96250\n",
            "50/50 [==============================] - 261s 5s/step - loss: 0.4315 - accuracy: 0.9955 - val_loss: 13.0298 - val_accuracy: 0.9594\n",
            "Epoch 39/50\n",
            "50/50 [==============================] - ETA: 0s - loss: 0.0520 - accuracy: 0.9981\n",
            "Epoch 00039: val_accuracy did not improve from 0.96250\n",
            "50/50 [==============================] - 259s 5s/step - loss: 0.0520 - accuracy: 0.9981 - val_loss: 13.8782 - val_accuracy: 0.9469\n",
            "Epoch 40/50\n",
            "50/50 [==============================] - ETA: 0s - loss: 0.4631 - accuracy: 0.9955\n",
            "Epoch 00040: val_accuracy did not improve from 0.96250\n",
            "50/50 [==============================] - 258s 5s/step - loss: 0.4631 - accuracy: 0.9955 - val_loss: 21.1055 - val_accuracy: 0.9000\n",
            "Epoch 41/50\n",
            "50/50 [==============================] - ETA: 0s - loss: 0.5353 - accuracy: 0.9917\n",
            "Epoch 00041: val_accuracy did not improve from 0.96250\n",
            "50/50 [==============================] - 257s 5s/step - loss: 0.5353 - accuracy: 0.9917 - val_loss: 21.0188 - val_accuracy: 0.9344\n",
            "Epoch 00041: early stopping\n"
          ],
          "name": "stdout"
        }
      ]
    },
    {
      "cell_type": "markdown",
      "metadata": {
        "id": "UlHXFig3jTbI"
      },
      "source": [
        "### Lets plot the Accuracy with each Epoch"
      ]
    },
    {
      "cell_type": "code",
      "metadata": {
        "colab": {
          "base_uri": "https://localhost:8080/",
          "height": 295
        },
        "id": "SjQRheXOjXIY",
        "outputId": "b54d3dbd-7cab-43a6-ed89-b08bf1098fda"
      },
      "source": [
        "plt.plot(hist_2.history[\"accuracy\"])\n",
        "plt.plot(hist_2.history['val_accuracy'])\n",
        "plt.plot(hist_2.history['loss'])\n",
        "plt.plot(hist_2.history['val_loss'])\n",
        "plt.title(\"model accuracy\")\n",
        "plt.ylabel(\"Accuracy\")\n",
        "plt.xlabel(\"Epoch\")\n",
        "plt.legend([\"Accuracy\",\"Validation Accuracy\",\"loss\",\"Validation Loss\"])\n",
        "plt.show()"
      ],
      "execution_count": 12,
      "outputs": [
        {
          "output_type": "display_data",
          "data": {
            "image/png": "[encoded data removed]",
            "text/plain": [
              "<Figure size 432x288 with 1 Axes>"
            ]
          },
          "metadata": {
            "tags": [],
            "needs_background": "light"
          }
        }
      ]
    },
    {
      "cell_type": "markdown",
      "metadata": {
        "id": "MW4AacpgjWV_"
      },
      "source": [
        ""
      ]
    },
    {
      "cell_type": "markdown",
      "metadata": {
        "id": "x-SpD2XxjhRy"
      },
      "source": [
        "## Thus, after training, our model has an Accuracy of 96.25%"
      ]
    },
    {
      "cell_type": "markdown",
      "metadata": {
        "id": "G9x9aU-wjmqi"
      },
      "source": [
        "### Lets load the best saved model and then make our predictions using Prediction Images."
      ]
    },
    {
      "cell_type": "code",
      "metadata": {
        "colab": {
          "base_uri": "https://localhost:8080/"
        },
        "id": "h-UzQiIMjkPb",
        "outputId": "61f01aaf-9729-4a1d-bc25-56f02294dd46"
      },
      "source": [
        "#Loading our saved model\n",
        "from keras.models import load_model\n",
        "inception = load_model(\"inception_1.h5\")\n",
        "\n",
        "#Making Predictions\n",
        "pred = {}\n",
        "for fl in listdir(os.path.join(predict_path,'Yes')):    \n",
        "    img = image.load_img(os.path.join(predict_path,'Yes',fl))\n",
        "    img = np.asarray(img)\n",
        "    img = np.expand_dims(img, axis=0)\n",
        "    output = inception.predict(img)\n",
        "    if(output[0][0] > output[0][1]):\n",
        "        pred[fl] = 'N'\n",
        "    else:\n",
        "        pred[fl] = 'Y'\n",
        "for fl in listdir(os.path.join(predict_path,'No')):    \n",
        "    img = image.load_img(os.path.join(predict_path,'No',fl))\n",
        "    img = np.asarray(img)\n",
        "    img = np.expand_dims(img, axis=0)\n",
        "    output = inception.predict(img)\n",
        "    if(output[0][0] > output[0][1]):\n",
        "        pred[fl] = 'Y'\n",
        "    else:\n",
        "        pred[fl] = 'N'\n",
        "print(pred)"
      ],
      "execution_count": 4,
      "outputs": [
        {
          "output_type": "stream",
          "text": [
            "{'Y_10.JPG': 'Y', 'Y_16.JPG': 'Y', 'Y_19.JPG': 'Y', 'Y_1.JPG': 'Y', 'Y_5.JPG': 'Y', 'Y_14.JPG': 'Y', 'Y_13.JPG': 'Y', 'Y_18.JPG': 'Y', 'Y_8.JPG': 'Y', 'Y_9.JPG': 'Y', 'Y_7.JPG': 'Y', 'Y_15.JPG': 'Y', 'Y_20.JPG': 'Y', 'Y_12.JPG': 'Y', 'Y_2.JPG': 'N', 'Y_11.JPG': 'Y', 'Y_17.JPG': 'N', 'Y_6.JPG': 'Y', 'Y_3.JPG': 'Y', 'Y_4.JPG': 'Y', 'N_10.JPG': 'N', 'N_13.JPG': 'N', 'N_12.JPG': 'N', 'N_18.JPG': 'N', 'N_16.JPG': 'N', 'N_15.JPG': 'N', 'N_17.JPG': 'N', 'N_14.JPG': 'N', 'N_1.JPG': 'N', 'N_11.JPG': 'N', 'N_6.JPG': 'N', 'N_5.JPG': 'N', 'N_20.JPG': 'N', 'N_2.JPG': 'N', 'N_8.JPG': 'N', 'N_3.JPG': 'N', 'N_7.JPG': 'N', 'N_9.JPG': 'N', 'N_4.JPG': 'N', 'N_19.JPG': 'N'}\n"
          ],
          "name": "stdout"
        }
      ]
    },
    {
      "cell_type": "code",
      "metadata": {
        "colab": {
          "base_uri": "https://localhost:8080/"
        },
        "id": "ZcEsdh-jj4jV",
        "outputId": "aa831de3-8ca4-4792-bdb5-c25190f59ee6"
      },
      "source": [
        "# Counting the Images classified Correctly and Incorrectly.\n",
        "correct = 0\n",
        "wrong = 0\n",
        "for key,val in pred.items():\n",
        "    if(key[0] == val):\n",
        "        correct += 1\n",
        "    else:\n",
        "        wrong += 1\n",
        "print(\"Correct Classification: \" + str(correct))\n",
        "print(\"Incorrect Classification: \" + str(wrong))"
      ],
      "execution_count": 5,
      "outputs": [
        {
          "output_type": "stream",
          "text": [
            "Correct Classification: 38\n",
            "Incorrect Classification: 2\n"
          ],
          "name": "stdout"
        }
      ]
    },
    {
      "cell_type": "markdown",
      "metadata": {
        "id": "kcJP1aWLj8Ey"
      },
      "source": [
        "## Thus, it looks like Our created model was able to classify 38/40 Images for prediction Correctly."
      ]
    }
  ]
}