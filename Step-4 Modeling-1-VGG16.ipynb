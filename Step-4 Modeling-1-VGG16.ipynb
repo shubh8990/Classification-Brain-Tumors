{
 "metadata": {
  "language_info": {
   "codemirror_mode": {
    "name": "ipython",
    "version": 3
   },
   "file_extension": ".py",
   "mimetype": "text/x-python",
   "name": "python",
   "nbconvert_exporter": "python",
   "pygments_lexer": "ipython3",
   "version": "3.8.3-final"
  },
  "orig_nbformat": 2,
  "kernelspec": {
   "name": "python3",
   "display_name": "Python 3.8.3 64-bit (conda)",
   "metadata": {
    "interpreter": {
     "hash": "5711503aa775ae4aab8b7e3d1867329870f2ef034b0c2bb5c88ae00369442dcf"
    }
   }
  }
 },
 "nbformat": 4,
 "nbformat_minor": 2,
 "cells": [
  {
   "source": [
    "# Classification Of Brain Tumors - Model Creation and Evaluation\n",
    "\n",
    "This notebook is the 4th Step in creating a working model for Brain Tumor Classification Problem and lists down the following:\n",
    "\n",
    "1. Create VGG-16 Model using CNN for your Train data and then Evaluate them on the Test Data."
   ],
   "cell_type": "markdown",
   "metadata": {}
  },
  {
   "source": [
    "## Step-0: Installing the required libraries"
   ],
   "cell_type": "markdown",
   "metadata": {}
  },
  {
   "cell_type": "code",
   "execution_count": null,
   "metadata": {},
   "outputs": [],
   "source": [
    "#Installing Keras\n",
    "! pip install Keras"
   ]
  },
  {
   "cell_type": "code",
   "execution_count": null,
   "metadata": {},
   "outputs": [],
   "source": [
    "#Installing Tensorflow\n",
    "! pip install tensorflow"
   ]
  },
  {
   "source": [
    "## Step-1: Loading the data into Dataframes"
   ],
   "cell_type": "markdown",
   "metadata": {}
  },
  {
   "cell_type": "code",
   "execution_count": 1,
   "metadata": {},
   "outputs": [],
   "source": [
    "#load required python packages\n",
    "import os\n",
    "import shutil\n",
    "from os import listdir\n",
    "import pandas as pd\n",
    "import numpy as np\n",
    "import matplotlib.pyplot as plt\n",
    "from PIL import Image\n",
    "import seaborn as sns\n",
    "import keras\n",
    "from keras.models import Sequential, Model\n",
    "from keras.layers import Dense, Conv2D, MaxPool2D , Flatten, Input\n",
    "from keras.layers.merge import concatenate\n",
    "from keras.preprocessing.image import ImageDataGenerator\n",
    "from keras.preprocessing import image\n",
    "from keras.utils import plot_model\n",
    "%matplotlib inline"
   ]
  },
  {
   "cell_type": "code",
   "execution_count": 2,
   "metadata": {
    "tags": []
   },
   "outputs": [
    {
     "output_type": "stream",
     "name": "stdout",
     "text": [
      "d:\\Learning\\Springboard\\GitHub\\Classification-Brain-Tumors\n"
     ]
    }
   ],
   "source": [
    "#Print the current working directory\n",
    "path = os.getcwd()\n",
    "print(path)"
   ]
  },
  {
   "cell_type": "code",
   "execution_count": 3,
   "metadata": {},
   "outputs": [],
   "source": [
    "#Create 2 new Path variables so that they point to 'Train' and 'Test' Directories\n",
    "train_path = os.path.join(path,'Train')\n",
    "test_path = os.path.join(path,'Test')\n",
    "predict_path = os.path.join(path,'Prediction Images')"
   ]
  },
  {
   "cell_type": "code",
   "execution_count": 5,
   "metadata": {},
   "outputs": [
    {
     "output_type": "stream",
     "name": "stdout",
     "text": [
      "Found 2821 images belonging to 2 classes.\nFound 704 images belonging to 2 classes.\n"
     ]
    }
   ],
   "source": [
    "#Reading Images & Loading the image data from Train & Tests folder into a Dataframes\n",
    "train = ImageDataGenerator()\n",
    "train_df = train.flow_from_directory(train_path, target_size = (150,150))\n",
    "test = ImageDataGenerator()\n",
    "test_df = train.flow_from_directory(test_path, target_size = (150,150))"
   ]
  },
  {
   "source": [
    "## Step-2: Creating 1st Model- VGG-16"
   ],
   "cell_type": "markdown",
   "metadata": {}
  },
  {
   "source": [
    "### Adding the below layers in the given order\n",
    "\n",
    "1. 2 Convolution Layers of 64 channel of 3x3 kernal and same padding.\n",
    "2. Maxpool layer of 2x2 pool size and stride 2x2.\n",
    "3. 2 Convolution Layers of 128 channel of 3x3 kernal and same padding.\n",
    "4. Maxpool layer of 2x2 pool size and stride 2x2.\n",
    "5. 3 Convolution Layers of 256 channel of 3x3 kernal and same padding.\n",
    "6. Maxpool layer of 2x2 pool size and stride 2x2.\n",
    "7. 3 Convolution Layers of 512 channel of 3x3 kernal and same padding.\n",
    "8. Maxpool layer of 2x2 pool size and stride 2x2.\n",
    "9. 3 Convolution Layers of 512 channel of 3x3 kernal and same padding.\n",
    "10. Maxpool layer of 2x2 pool size and stride 2x2.\n",
    "\n",
    "Each of these layers have a ReLu Activation as well so that negative values are not passed to the next layer."
   ],
   "cell_type": "markdown",
   "metadata": {
    "tags": []
   }
  },
  {
   "cell_type": "code",
   "execution_count": 5,
   "metadata": {},
   "outputs": [],
   "source": [
    "#Adding 2 Convolution Layers (step-1)\n",
    "vgg16 = Sequential()\n",
    "vgg16.add(Conv2D(input_shape = (150,150,3), filters = 64, kernel_size = (3,3), padding = \"same\", activation = 'relu'))\n",
    "vgg16.add(Conv2D(filters = 64, kernel_size = (3,3), padding = \"same\", activation = 'relu'))"
   ]
  },
  {
   "cell_type": "code",
   "execution_count": 6,
   "metadata": {},
   "outputs": [],
   "source": [
    "#Adding Maxool layer (step-2)\n",
    "vgg16.add(MaxPool2D(pool_size = (2, 2), strides = (2, 2)))"
   ]
  },
  {
   "cell_type": "code",
   "execution_count": 7,
   "metadata": {},
   "outputs": [],
   "source": [
    "#Adding 2 Convolution Layers (step-3)\n",
    "vgg16.add(Conv2D(filters = 128, kernel_size = (3,3), padding = \"same\", activation = 'relu'))\n",
    "vgg16.add(Conv2D(filters = 128, kernel_size = (3,3), padding = \"same\", activation = 'relu'))"
   ]
  },
  {
   "cell_type": "code",
   "execution_count": 8,
   "metadata": {},
   "outputs": [],
   "source": [
    "#Adding Maxool layer (step-4)\n",
    "vgg16.add(MaxPool2D(pool_size = (2, 2), strides = (2, 2)))"
   ]
  },
  {
   "cell_type": "code",
   "execution_count": 9,
   "metadata": {},
   "outputs": [],
   "source": [
    "#Adding 3 Convolution Layers (step-5)\n",
    "vgg16.add(Conv2D(filters = 256, kernel_size = (3,3), padding = \"same\", activation = 'relu'))\n",
    "vgg16.add(Conv2D(filters = 256, kernel_size = (3,3), padding = \"same\", activation = 'relu'))\n",
    "vgg16.add(Conv2D(filters = 256, kernel_size = (3,3), padding = \"same\", activation = 'relu'))"
   ]
  },
  {
   "cell_type": "code",
   "execution_count": 10,
   "metadata": {},
   "outputs": [],
   "source": [
    "#Adding Maxool layer (step-6)\n",
    "vgg16.add(MaxPool2D(pool_size = (2, 2), strides = (2, 2)))"
   ]
  },
  {
   "cell_type": "code",
   "execution_count": 11,
   "metadata": {},
   "outputs": [],
   "source": [
    "#Adding 3 Convolution Layers (step-7)\n",
    "vgg16.add(Conv2D(filters = 512, kernel_size = (3,3), padding = \"same\", activation = 'relu'))\n",
    "vgg16.add(Conv2D(filters = 512, kernel_size = (3,3), padding = \"same\", activation = 'relu'))\n",
    "vgg16.add(Conv2D(filters = 512, kernel_size = (3,3), padding = \"same\", activation = 'relu'))"
   ]
  },
  {
   "cell_type": "code",
   "execution_count": 12,
   "metadata": {},
   "outputs": [],
   "source": [
    "#Adding Maxool layer (step-8)\n",
    "vgg16.add(MaxPool2D(pool_size = (2, 2), strides = (2, 2)))"
   ]
  },
  {
   "cell_type": "code",
   "execution_count": 13,
   "metadata": {},
   "outputs": [],
   "source": [
    "#Adding 3 Convolution Layers (step-9)\n",
    "vgg16.add(Conv2D(filters = 512, kernel_size = (3,3), padding = \"same\", activation = 'relu'))\n",
    "vgg16.add(Conv2D(filters = 512, kernel_size = (3,3), padding = \"same\", activation = 'relu'))\n",
    "vgg16.add(Conv2D(filters = 512, kernel_size = (3,3), padding = \"same\", activation = 'relu'))"
   ]
  },
  {
   "cell_type": "code",
   "execution_count": 14,
   "metadata": {},
   "outputs": [],
   "source": [
    "#Adding Maxool layer (step-10)\n",
    "vgg16.add(MaxPool2D(pool_size = (2, 2), strides = (2, 2)))"
   ]
  },
  {
   "source": [
    "### Flatten the data coming out of the above convolutions and perform the following:\n",
    "\n",
    "1. Flatten the resulting data.\n",
    "2. Create 2 Dense layers of 4096 units.\n",
    "3. Create a Dense Softmax layer of 2 units."
   ],
   "cell_type": "markdown",
   "metadata": {}
  },
  {
   "cell_type": "code",
   "execution_count": 15,
   "metadata": {},
   "outputs": [],
   "source": [
    "# Flatten the image and perform the above the steps.\n",
    "vgg16.add(Flatten())\n",
    "vgg16.add(Dense(units = 4096, activation = \"relu\"))\n",
    "vgg16.add(Dense(units = 4096, activation = \"relu\"))\n",
    "vgg16.add(Dense(units = 2, activation = \"softmax\"))"
   ]
  },
  {
   "source": [
    "### Compile the above model using 'Adam' Optimizer"
   ],
   "cell_type": "markdown",
   "metadata": {}
  },
  {
   "cell_type": "code",
   "execution_count": 16,
   "metadata": {},
   "outputs": [],
   "source": [
    "#Compiling the created Model.\n",
    "vgg16.compile(optimizer = 'adam', loss = 'binary_crossentropy', metrics = ['accuracy'])"
   ]
  },
  {
   "cell_type": "code",
   "execution_count": 17,
   "metadata": {},
   "outputs": [
    {
     "output_type": "stream",
     "name": "stdout",
     "text": [
      "Model: \"sequential\"\n_________________________________________________________________\nLayer (type)                 Output Shape              Param #   \n=================================================================\nconv2d (Conv2D)              (None, 150, 150, 64)      1792      \n_________________________________________________________________\nconv2d_1 (Conv2D)            (None, 150, 150, 64)      36928     \n_________________________________________________________________\nmax_pooling2d (MaxPooling2D) (None, 75, 75, 64)        0         \n_________________________________________________________________\nconv2d_2 (Conv2D)            (None, 75, 75, 128)       73856     \n_________________________________________________________________\nconv2d_3 (Conv2D)            (None, 75, 75, 128)       147584    \n_________________________________________________________________\nmax_pooling2d_1 (MaxPooling2 (None, 37, 37, 128)       0         \n_________________________________________________________________\nconv2d_4 (Conv2D)            (None, 37, 37, 256)       295168    \n_________________________________________________________________\nconv2d_5 (Conv2D)            (None, 37, 37, 256)       590080    \n_________________________________________________________________\nconv2d_6 (Conv2D)            (None, 37, 37, 256)       590080    \n_________________________________________________________________\nmax_pooling2d_2 (MaxPooling2 (None, 18, 18, 256)       0         \n_________________________________________________________________\nconv2d_7 (Conv2D)            (None, 18, 18, 512)       1180160   \n_________________________________________________________________\nconv2d_8 (Conv2D)            (None, 18, 18, 512)       2359808   \n_________________________________________________________________\nconv2d_9 (Conv2D)            (None, 18, 18, 512)       2359808   \n_________________________________________________________________\nmax_pooling2d_3 (MaxPooling2 (None, 9, 9, 512)         0         \n_________________________________________________________________\nconv2d_10 (Conv2D)           (None, 9, 9, 512)         2359808   \n_________________________________________________________________\nconv2d_11 (Conv2D)           (None, 9, 9, 512)         2359808   \n_________________________________________________________________\nconv2d_12 (Conv2D)           (None, 9, 9, 512)         2359808   \n_________________________________________________________________\nmax_pooling2d_4 (MaxPooling2 (None, 4, 4, 512)         0         \n_________________________________________________________________\nflatten (Flatten)            (None, 8192)              0         \n_________________________________________________________________\ndense (Dense)                (None, 4096)              33558528  \n_________________________________________________________________\ndense_1 (Dense)              (None, 4096)              16781312  \n_________________________________________________________________\ndense_2 (Dense)              (None, 2)                 8194      \n=================================================================\nTotal params: 65,062,722\nTrainable params: 65,062,722\nNon-trainable params: 0\n_________________________________________________________________\nNone\n"
     ]
    }
   ],
   "source": [
    "#Printing the Summary of the created model\n",
    "print(vgg16.summary())"
   ]
  },
  {
   "source": [
    "### Now let's Train the Model on our Train data"
   ],
   "cell_type": "markdown",
   "metadata": {}
  },
  {
   "cell_type": "code",
   "execution_count": 18,
   "metadata": {},
   "outputs": [
    {
     "output_type": "stream",
     "name": "stdout",
     "text": [
      "WARNING:tensorflow:From <ipython-input-18-6f81f8e8c5c7>:4: Model.fit_generator (from tensorflow.python.keras.engine.training) is deprecated and will be removed in a future version.\n",
      "Instructions for updating:\n",
      "Please use Model.fit, which supports generators.\n",
      "Epoch 1/50\n",
      "50/50 [==============================] - ETA: 0s - loss: 2.4753 - accuracy: 0.8356 \n",
      "Epoch 00001: val_accuracy improved from -inf to 0.81563, saving model to vgg16_1.h5\n",
      "50/50 [==============================] - 1625s 33s/step - loss: 2.4753 - accuracy: 0.8356 - val_loss: 2.8278 - val_accuracy: 0.8156\n",
      "Epoch 2/50\n",
      "50/50 [==============================] - ETA: 0s - loss: 2.8081 - accuracy: 0.8169 \n",
      "Epoch 00002: val_accuracy improved from 0.81563 to 0.84688, saving model to vgg16_1.h5\n",
      "50/50 [==============================] - 1214s 24s/step - loss: 2.8081 - accuracy: 0.8169 - val_loss: 2.3485 - val_accuracy: 0.8469\n",
      "Epoch 3/50\n",
      "50/50 [==============================] - ETA: 0s - loss: 2.4571 - accuracy: 0.8398 \n",
      "Epoch 00003: val_accuracy did not improve from 0.84688\n",
      "50/50 [==============================] - 1480s 30s/step - loss: 2.4571 - accuracy: 0.8398 - val_loss: 2.4443 - val_accuracy: 0.8406\n",
      "Epoch 4/50\n",
      "50/50 [==============================] - ETA: 0s - loss: 2.4863 - accuracy: 0.8379 \n",
      "Epoch 00004: val_accuracy did not improve from 0.84688\n",
      "50/50 [==============================] - 1549s 31s/step - loss: 2.4863 - accuracy: 0.8379 - val_loss: 2.6840 - val_accuracy: 0.8250\n",
      "Epoch 5/50\n",
      "50/50 [==============================] - ETA: 0s - loss: 2.5448 - accuracy: 0.8341 \n",
      "Epoch 00005: val_accuracy did not improve from 0.84688\n",
      "50/50 [==============================] - 1132s 23s/step - loss: 2.5448 - accuracy: 0.8341 - val_loss: 2.9236 - val_accuracy: 0.8094\n",
      "Epoch 6/50\n",
      "50/50 [==============================] - ETA: 0s - loss: 2.6169 - accuracy: 0.8294 \n",
      "Epoch 00006: val_accuracy did not improve from 0.84688\n",
      "50/50 [==============================] - 1174s 23s/step - loss: 2.6169 - accuracy: 0.8294 - val_loss: 2.6840 - val_accuracy: 0.8250\n",
      "Epoch 7/50\n",
      "50/50 [==============================] - ETA: 0s - loss: 2.5741 - accuracy: 0.8322 \n",
      "Epoch 00007: val_accuracy did not improve from 0.84688\n",
      "50/50 [==============================] - 1128s 23s/step - loss: 2.5741 - accuracy: 0.8322 - val_loss: 2.5402 - val_accuracy: 0.8344\n",
      "Epoch 8/50\n",
      "50/50 [==============================] - ETA: 0s - loss: 2.6228 - accuracy: 0.8290 \n",
      "Epoch 00008: val_accuracy did not improve from 0.84688\n",
      "50/50 [==============================] - 1114s 22s/step - loss: 2.6228 - accuracy: 0.8290 - val_loss: 2.8278 - val_accuracy: 0.8156\n",
      "Epoch 9/50\n",
      "50/50 [==============================] - ETA: 0s - loss: 2.5448 - accuracy: 0.8341 \n",
      "Epoch 00009: val_accuracy did not improve from 0.84688\n",
      "50/50 [==============================] - 1122s 22s/step - loss: 2.5448 - accuracy: 0.8341 - val_loss: 2.6361 - val_accuracy: 0.8281\n",
      "Epoch 10/50\n",
      "50/50 [==============================] - ETA: 0s - loss: 2.7496 - accuracy: 0.8207 \n",
      "Epoch 00010: val_accuracy improved from 0.84688 to 0.85000, saving model to vgg16_1.h5\n",
      "50/50 [==============================] - 1115s 22s/step - loss: 2.7496 - accuracy: 0.8207 - val_loss: 2.3006 - val_accuracy: 0.8500\n",
      "Epoch 11/50\n",
      "50/50 [==============================] - ETA: 0s - loss: 2.6648 - accuracy: 0.8263 \n",
      "Epoch 00011: val_accuracy did not improve from 0.85000\n",
      "50/50 [==============================] - 1121s 22s/step - loss: 2.6648 - accuracy: 0.8263 - val_loss: 2.4923 - val_accuracy: 0.8375\n",
      "Epoch 12/50\n",
      "50/50 [==============================] - ETA: 0s - loss: 2.4348 - accuracy: 0.8413 \n",
      "Epoch 00012: val_accuracy did not improve from 0.85000\n",
      "50/50 [==============================] - 1146s 23s/step - loss: 2.4348 - accuracy: 0.8413 - val_loss: 2.8757 - val_accuracy: 0.8125\n",
      "Epoch 13/50\n",
      "50/50 [==============================] - ETA: 0s - loss: 2.3693 - accuracy: 0.8455 \n",
      "Epoch 00013: val_accuracy did not improve from 0.85000\n",
      "50/50 [==============================] - 1111s 22s/step - loss: 2.3693 - accuracy: 0.8455 - val_loss: 2.9716 - val_accuracy: 0.8062\n",
      "Epoch 14/50\n",
      "50/50 [==============================] - ETA: 0s - loss: 2.6840 - accuracy: 0.8250 \n",
      "Epoch 00014: val_accuracy did not improve from 0.85000\n",
      "50/50 [==============================] - 1131s 23s/step - loss: 2.6840 - accuracy: 0.8250 - val_loss: 2.5881 - val_accuracy: 0.8313\n",
      "Epoch 15/50\n",
      "50/50 [==============================] - ETA: 0s - loss: 2.7106 - accuracy: 0.8233 \n",
      "Epoch 00015: val_accuracy did not improve from 0.85000\n",
      "50/50 [==============================] - 1113s 22s/step - loss: 2.7106 - accuracy: 0.8233 - val_loss: 2.5881 - val_accuracy: 0.8313\n",
      "Epoch 16/50\n",
      "50/50 [==============================] - ETA: 0s - loss: 2.6228 - accuracy: 0.8290 \n",
      "Epoch 00016: val_accuracy did not improve from 0.85000\n",
      "50/50 [==============================] - 1118s 22s/step - loss: 2.6228 - accuracy: 0.8290 - val_loss: 2.8757 - val_accuracy: 0.8125\n",
      "Epoch 17/50\n",
      "50/50 [==============================] - ETA: 0s - loss: 2.6265 - accuracy: 0.8288 \n",
      "Epoch 00017: val_accuracy did not improve from 0.85000\n",
      "50/50 [==============================] - 1125s 22s/step - loss: 2.6265 - accuracy: 0.8288 - val_loss: 3.2112 - val_accuracy: 0.7906\n",
      "Epoch 18/50\n",
      "50/50 [==============================] - ETA: 0s - loss: 2.5498 - accuracy: 0.8338 \n",
      "Epoch 00018: val_accuracy improved from 0.85000 to 0.85938, saving model to vgg16_1.h5\n",
      "50/50 [==============================] - 1140s 23s/step - loss: 2.5498 - accuracy: 0.8338 - val_loss: 2.1568 - val_accuracy: 0.8594\n",
      "Epoch 19/50\n",
      "50/50 [==============================] - ETA: 0s - loss: 2.6423 - accuracy: 0.8277 \n",
      "Epoch 00019: val_accuracy did not improve from 0.85938\n",
      "50/50 [==============================] - 1114s 22s/step - loss: 2.6423 - accuracy: 0.8277 - val_loss: 2.4923 - val_accuracy: 0.8375\n",
      "Epoch 20/50\n",
      "50/50 [==============================] - ETA: 0s - loss: 2.6033 - accuracy: 0.8303 \n",
      "Epoch 00020: val_accuracy did not improve from 0.85938\n",
      "50/50 [==============================] - 1109s 22s/step - loss: 2.6033 - accuracy: 0.8303 - val_loss: 2.8757 - val_accuracy: 0.8125\n",
      "Epoch 21/50\n",
      "50/50 [==============================] - ETA: 0s - loss: 2.6131 - accuracy: 0.8296 \n",
      "Epoch 00021: val_accuracy did not improve from 0.85938\n",
      "50/50 [==============================] - 1217s 24s/step - loss: 2.6131 - accuracy: 0.8296 - val_loss: 2.8757 - val_accuracy: 0.8125\n",
      "Epoch 22/50\n",
      "50/50 [==============================] - ETA: 0s - loss: 2.6169 - accuracy: 0.8294 \n",
      "Epoch 00022: val_accuracy did not improve from 0.85938\n",
      "50/50 [==============================] - 1151s 23s/step - loss: 2.6169 - accuracy: 0.8294 - val_loss: 2.4923 - val_accuracy: 0.8375\n",
      "Epoch 23/50\n",
      "50/50 [==============================] - ETA: 0s - loss: 2.6911 - accuracy: 0.8245 \n",
      "Epoch 00023: val_accuracy did not improve from 0.85938\n",
      "50/50 [==============================] - 1496s 30s/step - loss: 2.6911 - accuracy: 0.8245 - val_loss: 2.6840 - val_accuracy: 0.8250\n",
      "Epoch 24/50\n",
      "50/50 [==============================] - ETA: 0s - loss: 2.5114 - accuracy: 0.8363 \n",
      "Epoch 00024: val_accuracy did not improve from 0.85938\n",
      "50/50 [==============================] - 1696s 34s/step - loss: 2.5114 - accuracy: 0.8363 - val_loss: 2.6840 - val_accuracy: 0.8250\n",
      "Epoch 25/50\n",
      "50/50 [==============================] - ETA: 0s - loss: 2.5306 - accuracy: 0.8350 \n",
      "Epoch 00025: val_accuracy did not improve from 0.85938\n",
      "50/50 [==============================] - 1525s 30s/step - loss: 2.5306 - accuracy: 0.8350 - val_loss: 2.4443 - val_accuracy: 0.8406\n",
      "Epoch 26/50\n",
      "50/50 [==============================] - ETA: 0s - loss: 2.4668 - accuracy: 0.8392 \n",
      "Epoch 00026: val_accuracy did not improve from 0.85938\n",
      "50/50 [==============================] - 1063s 21s/step - loss: 2.4668 - accuracy: 0.8392 - val_loss: 2.7319 - val_accuracy: 0.8219\n",
      "Epoch 27/50\n",
      "50/50 [==============================] - ETA: 0s - loss: 2.6813 - accuracy: 0.8252 \n",
      "Epoch 00027: val_accuracy did not improve from 0.85938\n",
      "50/50 [==============================] - 1058s 21s/step - loss: 2.6813 - accuracy: 0.8252 - val_loss: 2.3006 - val_accuracy: 0.8500\n",
      "Epoch 28/50\n",
      "50/50 [==============================] - ETA: 0s - loss: 2.6033 - accuracy: 0.8303 \n",
      "Epoch 00028: val_accuracy did not improve from 0.85938\n",
      "50/50 [==============================] - 1053s 21s/step - loss: 2.6033 - accuracy: 0.8303 - val_loss: 2.9236 - val_accuracy: 0.8094\n",
      "Epoch 29/50\n",
      "50/50 [==============================] - ETA: 0s - loss: 2.5306 - accuracy: 0.8350 \n",
      "Epoch 00029: val_accuracy did not improve from 0.85938\n",
      "50/50 [==============================] - 1072s 21s/step - loss: 2.5306 - accuracy: 0.8350 - val_loss: 2.5402 - val_accuracy: 0.8344\n",
      "Epoch 30/50\n",
      "50/50 [==============================] - ETA: 0s - loss: 2.5741 - accuracy: 0.8322 \n",
      "Epoch 00030: val_accuracy did not improve from 0.85938\n",
      "50/50 [==============================] - 1065s 21s/step - loss: 2.5741 - accuracy: 0.8322 - val_loss: 2.5402 - val_accuracy: 0.8344\n",
      "Epoch 31/50\n",
      "50/50 [==============================] - ETA: 0s - loss: 2.5594 - accuracy: 0.8331 \n",
      "Epoch 00031: val_accuracy did not improve from 0.85938\n",
      "50/50 [==============================] - 1079s 22s/step - loss: 2.5594 - accuracy: 0.8331 - val_loss: 2.7319 - val_accuracy: 0.8219\n",
      "Epoch 32/50\n",
      "50/50 [==============================] - ETA: 0s - loss: 2.7008 - accuracy: 0.8239 \n",
      "Epoch 00032: val_accuracy improved from 0.85938 to 0.86563, saving model to vgg16_1.h5\n",
      "50/50 [==============================] - 1066s 21s/step - loss: 2.7008 - accuracy: 0.8239 - val_loss: 2.0609 - val_accuracy: 0.8656\n",
      "Epoch 33/50\n",
      "50/50 [==============================] - ETA: 0s - loss: 2.7032 - accuracy: 0.8238 \n",
      "Epoch 00033: val_accuracy did not improve from 0.86563\n",
      "50/50 [==============================] - 1082s 22s/step - loss: 2.7032 - accuracy: 0.8238 - val_loss: 2.5881 - val_accuracy: 0.8313\n",
      "Epoch 34/50\n",
      "50/50 [==============================] - ETA: 0s - loss: 2.5643 - accuracy: 0.8328 \n",
      "Epoch 00034: val_accuracy did not improve from 0.86563\n",
      "50/50 [==============================] - 1061s 21s/step - loss: 2.5643 - accuracy: 0.8328 - val_loss: 2.5881 - val_accuracy: 0.8313\n",
      "Epoch 35/50\n",
      "50/50 [==============================] - ETA: 0s - loss: 2.6744 - accuracy: 0.8256 \n",
      "Epoch 00035: val_accuracy did not improve from 0.86563\n",
      "50/50 [==============================] - 1077s 22s/step - loss: 2.6744 - accuracy: 0.8256 - val_loss: 2.3485 - val_accuracy: 0.8469\n",
      "Epoch 36/50\n",
      "50/50 [==============================] - ETA: 0s - loss: 2.5643 - accuracy: 0.8328 \n",
      "Epoch 00036: val_accuracy did not improve from 0.86563\n",
      "50/50 [==============================] - 1067s 21s/step - loss: 2.5643 - accuracy: 0.8328 - val_loss: 3.0195 - val_accuracy: 0.8031\n",
      "Epoch 37/50\n",
      "50/50 [==============================] - ETA: 0s - loss: 2.7127 - accuracy: 0.8231 \n",
      "Epoch 00037: val_accuracy did not improve from 0.86563\n",
      "50/50 [==============================] - 1081s 22s/step - loss: 2.7127 - accuracy: 0.8231 - val_loss: 2.7319 - val_accuracy: 0.8219\n",
      "Epoch 38/50\n",
      "50/50 [==============================] - ETA: 0s - loss: 2.5114 - accuracy: 0.8363 \n",
      "Epoch 00038: val_accuracy did not improve from 0.86563\n",
      "50/50 [==============================] - 1080s 22s/step - loss: 2.5114 - accuracy: 0.8363 - val_loss: 2.6840 - val_accuracy: 0.8250\n",
      "Epoch 39/50\n",
      "50/50 [==============================] - ETA: 0s - loss: 2.6744 - accuracy: 0.8256 \n",
      "Epoch 00039: val_accuracy did not improve from 0.86563\n",
      "50/50 [==============================] - 1084s 22s/step - loss: 2.6744 - accuracy: 0.8256 - val_loss: 2.4923 - val_accuracy: 0.8375\n",
      "Epoch 40/50\n",
      "50/50 [==============================] - ETA: 0s - loss: 2.6361 - accuracy: 0.8281 \n",
      "Epoch 00040: val_accuracy did not improve from 0.86563\n",
      "50/50 [==============================] - 1089s 22s/step - loss: 2.6361 - accuracy: 0.8281 - val_loss: 3.0195 - val_accuracy: 0.8031\n",
      "Epoch 41/50\n",
      "50/50 [==============================] - ETA: 0s - loss: 2.5546 - accuracy: 0.8334 \n",
      "Epoch 00041: val_accuracy did not improve from 0.86563\n",
      "50/50 [==============================] - 1073s 21s/step - loss: 2.5546 - accuracy: 0.8334 - val_loss: 2.3485 - val_accuracy: 0.8469\n",
      "Epoch 42/50\n",
      "50/50 [==============================] - ETA: 0s - loss: 2.6361 - accuracy: 0.8281 \n",
      "Epoch 00042: val_accuracy did not improve from 0.86563\n",
      "50/50 [==============================] - 1085s 22s/step - loss: 2.6361 - accuracy: 0.8281 - val_loss: 3.0674 - val_accuracy: 0.8000\n",
      "Epoch 43/50\n",
      "50/50 [==============================] - ETA: 0s - loss: 2.6228 - accuracy: 0.8290 \n",
      "Epoch 00043: val_accuracy did not improve from 0.86563\n",
      "50/50 [==============================] - 1080s 22s/step - loss: 2.6228 - accuracy: 0.8290 - val_loss: 2.4443 - val_accuracy: 0.8406\n",
      "Epoch 44/50\n",
      "50/50 [==============================] - ETA: 0s - loss: 2.4766 - accuracy: 0.8385 \n",
      "Epoch 00044: val_accuracy did not improve from 0.86563\n",
      "50/50 [==============================] - 1075s 22s/step - loss: 2.4766 - accuracy: 0.8385 - val_loss: 2.7798 - val_accuracy: 0.8188\n",
      "Epoch 45/50\n",
      "50/50 [==============================] - ETA: 0s - loss: 2.6033 - accuracy: 0.8303 \n",
      "Epoch 00045: val_accuracy did not improve from 0.86563\n",
      "50/50 [==============================] - 1076s 22s/step - loss: 2.6033 - accuracy: 0.8303 - val_loss: 2.3485 - val_accuracy: 0.8469\n",
      "Epoch 46/50\n",
      "50/50 [==============================] - ETA: 0s - loss: 2.5690 - accuracy: 0.8325 \n",
      "Epoch 00046: val_accuracy did not improve from 0.86563\n",
      "50/50 [==============================] - 1116s 22s/step - loss: 2.5690 - accuracy: 0.8325 - val_loss: 2.8278 - val_accuracy: 0.8156\n",
      "Epoch 47/50\n",
      "50/50 [==============================] - ETA: 0s - loss: 2.4156 - accuracy: 0.8425 \n",
      "Epoch 00047: val_accuracy did not improve from 0.86563\n",
      "50/50 [==============================] - 1092s 22s/step - loss: 2.4156 - accuracy: 0.8425 - val_loss: 3.0674 - val_accuracy: 0.8000\n",
      "Epoch 48/50\n",
      "50/50 [==============================] - ETA: 0s - loss: 2.6326 - accuracy: 0.8284 \n",
      "Epoch 00048: val_accuracy did not improve from 0.86563\n",
      "50/50 [==============================] - 1073s 21s/step - loss: 2.6326 - accuracy: 0.8284 - val_loss: 2.3964 - val_accuracy: 0.8438\n",
      "Epoch 49/50\n",
      "50/50 [==============================] - ETA: 0s - loss: 2.5114 - accuracy: 0.8363 \n",
      "Epoch 00049: val_accuracy did not improve from 0.86563\n",
      "50/50 [==============================] - 1104s 22s/step - loss: 2.5114 - accuracy: 0.8363 - val_loss: 2.3485 - val_accuracy: 0.8469\n",
      "Epoch 50/50\n",
      "50/50 [==============================] - ETA: 0s - loss: 2.6840 - accuracy: 0.8250 \n",
      "Epoch 00050: val_accuracy did not improve from 0.86563\n",
      "50/50 [==============================] - 1092s 22s/step - loss: 2.6840 - accuracy: 0.8250 - val_loss: 2.5881 - val_accuracy: 0.8313\n"
     ]
    }
   ],
   "source": [
    "from keras.callbacks import ModelCheckpoint, EarlyStopping\n",
    "checkpoint = ModelCheckpoint(\"vgg16_1.h5\", monitor='val_accuracy', verbose=1, save_best_only=True, save_weights_only=False, mode='auto')\n",
    "early = EarlyStopping(monitor='val_accuracy', min_delta=0, patience=20, verbose=1, mode='auto')\n",
    "hist = vgg16.fit_generator(steps_per_epoch=50,generator=train_df, validation_data= test_df, validation_steps=10,epochs=50,callbacks=[checkpoint,early])"
   ]
  },
  {
   "source": [
    "### Lets plot the Accuracy with each Epoch"
   ],
   "cell_type": "markdown",
   "metadata": {}
  },
  {
   "cell_type": "code",
   "execution_count": 19,
   "metadata": {},
   "outputs": [
    {
     "output_type": "display_data",
     "data": {
      "text/plain": "<Figure size 432x288 with 1 Axes>",
      "image/svg+xml": "<?xml version=\"1.0\" encoding=\"utf-8\" standalone=\"no\"?>\r\n<!DOCTYPE svg PUBLIC \"-//W3C//DTD SVG 1.1//EN\"\r\n  \"http://www.w3.org/Graphics/SVG/1.1/DTD/svg11.dtd\">\r\n<!-- Created with matplotlib (https://matplotlib.org/) -->\r\n<svg height=\"277.314375pt\" version=\"1.1\" viewBox=\"0 0 385.78125 277.314375\" width=\"385.78125pt\" xmlns=\"http://www.w3.org/2000/svg\" xmlns:xlink=\"http://www.w3.org/1999/xlink\">\r\n <defs>\r\n  <style type=\"text/css\">\r\n*{stroke-linecap:butt;stroke-linejoin:round;}\r\n  </style>\r\n </defs>\r\n <g id=\"figure_1\">\r\n  <g id=\"patch_1\">\r\n   <path d=\"M 0 277.314375 \r\nL 385.78125 277.314375 \r\nL 385.78125 0 \r\nL 0 0 \r\nz\r\n\" style=\"fill:none;\"/>\r\n  </g>\r\n  <g id=\"axes_1\">\r\n   <g id=\"patch_2\">\r\n    <path d=\"M 43.78125 239.758125 \r\nL 378.58125 239.758125 \r\nL 378.58125 22.318125 \r\nL 43.78125 22.318125 \r\nz\r\n\" style=\"fill:#ffffff;\"/>\r\n   </g>\r\n   <g id=\"matplotlib.axis_1\">\r\n    <g id=\"xtick_1\">\r\n     <g id=\"line2d_1\">\r\n      <defs>\r\n       <path d=\"M 0 0 \r\nL 0 3.5 \r\n\" id=\"m1d658a94e7\" style=\"stroke:#000000;stroke-width:0.8;\"/>\r\n      </defs>\r\n      <g>\r\n       <use style=\"stroke:#000000;stroke-width:0.8;\" x=\"58.999432\" xlink:href=\"#m1d658a94e7\" y=\"239.758125\"/>\r\n      </g>\r\n     </g>\r\n     <g id=\"text_1\">\r\n      <!-- 0 -->\r\n      <defs>\r\n       <path d=\"M 31.78125 66.40625 \r\nQ 24.171875 66.40625 20.328125 58.90625 \r\nQ 16.5 51.421875 16.5 36.375 \r\nQ 16.5 21.390625 20.328125 13.890625 \r\nQ 24.171875 6.390625 31.78125 6.390625 \r\nQ 39.453125 6.390625 43.28125 13.890625 \r\nQ 47.125 21.390625 47.125 36.375 \r\nQ 47.125 51.421875 43.28125 58.90625 \r\nQ 39.453125 66.40625 31.78125 66.40625 \r\nz\r\nM 31.78125 74.21875 \r\nQ 44.046875 74.21875 50.515625 64.515625 \r\nQ 56.984375 54.828125 56.984375 36.375 \r\nQ 56.984375 17.96875 50.515625 8.265625 \r\nQ 44.046875 -1.421875 31.78125 -1.421875 \r\nQ 19.53125 -1.421875 13.0625 8.265625 \r\nQ 6.59375 17.96875 6.59375 36.375 \r\nQ 6.59375 54.828125 13.0625 64.515625 \r\nQ 19.53125 74.21875 31.78125 74.21875 \r\nz\r\n\" id=\"DejaVuSans-48\"/>\r\n      </defs>\r\n      <g transform=\"translate(55.818182 254.356562)scale(0.1 -0.1)\">\r\n       <use xlink:href=\"#DejaVuSans-48\"/>\r\n      </g>\r\n     </g>\r\n    </g>\r\n    <g id=\"xtick_2\">\r\n     <g id=\"line2d_2\">\r\n      <g>\r\n       <use style=\"stroke:#000000;stroke-width:0.8;\" x=\"121.11446\" xlink:href=\"#m1d658a94e7\" y=\"239.758125\"/>\r\n      </g>\r\n     </g>\r\n     <g id=\"text_2\">\r\n      <!-- 10 -->\r\n      <defs>\r\n       <path d=\"M 12.40625 8.296875 \r\nL 28.515625 8.296875 \r\nL 28.515625 63.921875 \r\nL 10.984375 60.40625 \r\nL 10.984375 69.390625 \r\nL 28.421875 72.90625 \r\nL 38.28125 72.90625 \r\nL 38.28125 8.296875 \r\nL 54.390625 8.296875 \r\nL 54.390625 0 \r\nL 12.40625 0 \r\nz\r\n\" id=\"DejaVuSans-49\"/>\r\n      </defs>\r\n      <g transform=\"translate(114.75196 254.356562)scale(0.1 -0.1)\">\r\n       <use xlink:href=\"#DejaVuSans-49\"/>\r\n       <use x=\"63.623047\" xlink:href=\"#DejaVuSans-48\"/>\r\n      </g>\r\n     </g>\r\n    </g>\r\n    <g id=\"xtick_3\">\r\n     <g id=\"line2d_3\">\r\n      <g>\r\n       <use style=\"stroke:#000000;stroke-width:0.8;\" x=\"183.229487\" xlink:href=\"#m1d658a94e7\" y=\"239.758125\"/>\r\n      </g>\r\n     </g>\r\n     <g id=\"text_3\">\r\n      <!-- 20 -->\r\n      <defs>\r\n       <path d=\"M 19.1875 8.296875 \r\nL 53.609375 8.296875 \r\nL 53.609375 0 \r\nL 7.328125 0 \r\nL 7.328125 8.296875 \r\nQ 12.9375 14.109375 22.625 23.890625 \r\nQ 32.328125 33.6875 34.8125 36.53125 \r\nQ 39.546875 41.84375 41.421875 45.53125 \r\nQ 43.3125 49.21875 43.3125 52.78125 \r\nQ 43.3125 58.59375 39.234375 62.25 \r\nQ 35.15625 65.921875 28.609375 65.921875 \r\nQ 23.96875 65.921875 18.8125 64.3125 \r\nQ 13.671875 62.703125 7.8125 59.421875 \r\nL 7.8125 69.390625 \r\nQ 13.765625 71.78125 18.9375 73 \r\nQ 24.125 74.21875 28.421875 74.21875 \r\nQ 39.75 74.21875 46.484375 68.546875 \r\nQ 53.21875 62.890625 53.21875 53.421875 \r\nQ 53.21875 48.921875 51.53125 44.890625 \r\nQ 49.859375 40.875 45.40625 35.40625 \r\nQ 44.1875 33.984375 37.640625 27.21875 \r\nQ 31.109375 20.453125 19.1875 8.296875 \r\nz\r\n\" id=\"DejaVuSans-50\"/>\r\n      </defs>\r\n      <g transform=\"translate(176.866987 254.356562)scale(0.1 -0.1)\">\r\n       <use xlink:href=\"#DejaVuSans-50\"/>\r\n       <use x=\"63.623047\" xlink:href=\"#DejaVuSans-48\"/>\r\n      </g>\r\n     </g>\r\n    </g>\r\n    <g id=\"xtick_4\">\r\n     <g id=\"line2d_4\">\r\n      <g>\r\n       <use style=\"stroke:#000000;stroke-width:0.8;\" x=\"245.344515\" xlink:href=\"#m1d658a94e7\" y=\"239.758125\"/>\r\n      </g>\r\n     </g>\r\n     <g id=\"text_4\">\r\n      <!-- 30 -->\r\n      <defs>\r\n       <path d=\"M 40.578125 39.3125 \r\nQ 47.65625 37.796875 51.625 33 \r\nQ 55.609375 28.21875 55.609375 21.1875 \r\nQ 55.609375 10.40625 48.1875 4.484375 \r\nQ 40.765625 -1.421875 27.09375 -1.421875 \r\nQ 22.515625 -1.421875 17.65625 -0.515625 \r\nQ 12.796875 0.390625 7.625 2.203125 \r\nL 7.625 11.71875 \r\nQ 11.71875 9.328125 16.59375 8.109375 \r\nQ 21.484375 6.890625 26.8125 6.890625 \r\nQ 36.078125 6.890625 40.9375 10.546875 \r\nQ 45.796875 14.203125 45.796875 21.1875 \r\nQ 45.796875 27.640625 41.28125 31.265625 \r\nQ 36.765625 34.90625 28.71875 34.90625 \r\nL 20.21875 34.90625 \r\nL 20.21875 43.015625 \r\nL 29.109375 43.015625 \r\nQ 36.375 43.015625 40.234375 45.921875 \r\nQ 44.09375 48.828125 44.09375 54.296875 \r\nQ 44.09375 59.90625 40.109375 62.90625 \r\nQ 36.140625 65.921875 28.71875 65.921875 \r\nQ 24.65625 65.921875 20.015625 65.03125 \r\nQ 15.375 64.15625 9.8125 62.3125 \r\nL 9.8125 71.09375 \r\nQ 15.4375 72.65625 20.34375 73.4375 \r\nQ 25.25 74.21875 29.59375 74.21875 \r\nQ 40.828125 74.21875 47.359375 69.109375 \r\nQ 53.90625 64.015625 53.90625 55.328125 \r\nQ 53.90625 49.265625 50.4375 45.09375 \r\nQ 46.96875 40.921875 40.578125 39.3125 \r\nz\r\n\" id=\"DejaVuSans-51\"/>\r\n      </defs>\r\n      <g transform=\"translate(238.982015 254.356562)scale(0.1 -0.1)\">\r\n       <use xlink:href=\"#DejaVuSans-51\"/>\r\n       <use x=\"63.623047\" xlink:href=\"#DejaVuSans-48\"/>\r\n      </g>\r\n     </g>\r\n    </g>\r\n    <g id=\"xtick_5\">\r\n     <g id=\"line2d_5\">\r\n      <g>\r\n       <use style=\"stroke:#000000;stroke-width:0.8;\" x=\"307.459543\" xlink:href=\"#m1d658a94e7\" y=\"239.758125\"/>\r\n      </g>\r\n     </g>\r\n     <g id=\"text_5\">\r\n      <!-- 40 -->\r\n      <defs>\r\n       <path d=\"M 37.796875 64.3125 \r\nL 12.890625 25.390625 \r\nL 37.796875 25.390625 \r\nz\r\nM 35.203125 72.90625 \r\nL 47.609375 72.90625 \r\nL 47.609375 25.390625 \r\nL 58.015625 25.390625 \r\nL 58.015625 17.1875 \r\nL 47.609375 17.1875 \r\nL 47.609375 0 \r\nL 37.796875 0 \r\nL 37.796875 17.1875 \r\nL 4.890625 17.1875 \r\nL 4.890625 26.703125 \r\nz\r\n\" id=\"DejaVuSans-52\"/>\r\n      </defs>\r\n      <g transform=\"translate(301.097043 254.356562)scale(0.1 -0.1)\">\r\n       <use xlink:href=\"#DejaVuSans-52\"/>\r\n       <use x=\"63.623047\" xlink:href=\"#DejaVuSans-48\"/>\r\n      </g>\r\n     </g>\r\n    </g>\r\n    <g id=\"xtick_6\">\r\n     <g id=\"line2d_6\">\r\n      <g>\r\n       <use style=\"stroke:#000000;stroke-width:0.8;\" x=\"369.574571\" xlink:href=\"#m1d658a94e7\" y=\"239.758125\"/>\r\n      </g>\r\n     </g>\r\n     <g id=\"text_6\">\r\n      <!-- 50 -->\r\n      <defs>\r\n       <path d=\"M 10.796875 72.90625 \r\nL 49.515625 72.90625 \r\nL 49.515625 64.59375 \r\nL 19.828125 64.59375 \r\nL 19.828125 46.734375 \r\nQ 21.96875 47.46875 24.109375 47.828125 \r\nQ 26.265625 48.1875 28.421875 48.1875 \r\nQ 40.625 48.1875 47.75 41.5 \r\nQ 54.890625 34.8125 54.890625 23.390625 \r\nQ 54.890625 11.625 47.5625 5.09375 \r\nQ 40.234375 -1.421875 26.90625 -1.421875 \r\nQ 22.3125 -1.421875 17.546875 -0.640625 \r\nQ 12.796875 0.140625 7.71875 1.703125 \r\nL 7.71875 11.625 \r\nQ 12.109375 9.234375 16.796875 8.0625 \r\nQ 21.484375 6.890625 26.703125 6.890625 \r\nQ 35.15625 6.890625 40.078125 11.328125 \r\nQ 45.015625 15.765625 45.015625 23.390625 \r\nQ 45.015625 31 40.078125 35.4375 \r\nQ 35.15625 39.890625 26.703125 39.890625 \r\nQ 22.75 39.890625 18.8125 39.015625 \r\nQ 14.890625 38.140625 10.796875 36.28125 \r\nz\r\n\" id=\"DejaVuSans-53\"/>\r\n      </defs>\r\n      <g transform=\"translate(363.212071 254.356562)scale(0.1 -0.1)\">\r\n       <use xlink:href=\"#DejaVuSans-53\"/>\r\n       <use x=\"63.623047\" xlink:href=\"#DejaVuSans-48\"/>\r\n      </g>\r\n     </g>\r\n    </g>\r\n    <g id=\"text_7\">\r\n     <!-- Epoch -->\r\n     <defs>\r\n      <path d=\"M 9.8125 72.90625 \r\nL 55.90625 72.90625 \r\nL 55.90625 64.59375 \r\nL 19.671875 64.59375 \r\nL 19.671875 43.015625 \r\nL 54.390625 43.015625 \r\nL 54.390625 34.71875 \r\nL 19.671875 34.71875 \r\nL 19.671875 8.296875 \r\nL 56.78125 8.296875 \r\nL 56.78125 0 \r\nL 9.8125 0 \r\nz\r\n\" id=\"DejaVuSans-69\"/>\r\n      <path d=\"M 18.109375 8.203125 \r\nL 18.109375 -20.796875 \r\nL 9.078125 -20.796875 \r\nL 9.078125 54.6875 \r\nL 18.109375 54.6875 \r\nL 18.109375 46.390625 \r\nQ 20.953125 51.265625 25.265625 53.625 \r\nQ 29.59375 56 35.59375 56 \r\nQ 45.5625 56 51.78125 48.09375 \r\nQ 58.015625 40.1875 58.015625 27.296875 \r\nQ 58.015625 14.40625 51.78125 6.484375 \r\nQ 45.5625 -1.421875 35.59375 -1.421875 \r\nQ 29.59375 -1.421875 25.265625 0.953125 \r\nQ 20.953125 3.328125 18.109375 8.203125 \r\nz\r\nM 48.6875 27.296875 \r\nQ 48.6875 37.203125 44.609375 42.84375 \r\nQ 40.53125 48.484375 33.40625 48.484375 \r\nQ 26.265625 48.484375 22.1875 42.84375 \r\nQ 18.109375 37.203125 18.109375 27.296875 \r\nQ 18.109375 17.390625 22.1875 11.75 \r\nQ 26.265625 6.109375 33.40625 6.109375 \r\nQ 40.53125 6.109375 44.609375 11.75 \r\nQ 48.6875 17.390625 48.6875 27.296875 \r\nz\r\n\" id=\"DejaVuSans-112\"/>\r\n      <path d=\"M 30.609375 48.390625 \r\nQ 23.390625 48.390625 19.1875 42.75 \r\nQ 14.984375 37.109375 14.984375 27.296875 \r\nQ 14.984375 17.484375 19.15625 11.84375 \r\nQ 23.34375 6.203125 30.609375 6.203125 \r\nQ 37.796875 6.203125 41.984375 11.859375 \r\nQ 46.1875 17.53125 46.1875 27.296875 \r\nQ 46.1875 37.015625 41.984375 42.703125 \r\nQ 37.796875 48.390625 30.609375 48.390625 \r\nz\r\nM 30.609375 56 \r\nQ 42.328125 56 49.015625 48.375 \r\nQ 55.71875 40.765625 55.71875 27.296875 \r\nQ 55.71875 13.875 49.015625 6.21875 \r\nQ 42.328125 -1.421875 30.609375 -1.421875 \r\nQ 18.84375 -1.421875 12.171875 6.21875 \r\nQ 5.515625 13.875 5.515625 27.296875 \r\nQ 5.515625 40.765625 12.171875 48.375 \r\nQ 18.84375 56 30.609375 56 \r\nz\r\n\" id=\"DejaVuSans-111\"/>\r\n      <path d=\"M 48.78125 52.59375 \r\nL 48.78125 44.1875 \r\nQ 44.96875 46.296875 41.140625 47.34375 \r\nQ 37.3125 48.390625 33.40625 48.390625 \r\nQ 24.65625 48.390625 19.8125 42.84375 \r\nQ 14.984375 37.3125 14.984375 27.296875 \r\nQ 14.984375 17.28125 19.8125 11.734375 \r\nQ 24.65625 6.203125 33.40625 6.203125 \r\nQ 37.3125 6.203125 41.140625 7.25 \r\nQ 44.96875 8.296875 48.78125 10.40625 \r\nL 48.78125 2.09375 \r\nQ 45.015625 0.34375 40.984375 -0.53125 \r\nQ 36.96875 -1.421875 32.421875 -1.421875 \r\nQ 20.0625 -1.421875 12.78125 6.34375 \r\nQ 5.515625 14.109375 5.515625 27.296875 \r\nQ 5.515625 40.671875 12.859375 48.328125 \r\nQ 20.21875 56 33.015625 56 \r\nQ 37.15625 56 41.109375 55.140625 \r\nQ 45.0625 54.296875 48.78125 52.59375 \r\nz\r\n\" id=\"DejaVuSans-99\"/>\r\n      <path d=\"M 54.890625 33.015625 \r\nL 54.890625 0 \r\nL 45.90625 0 \r\nL 45.90625 32.71875 \r\nQ 45.90625 40.484375 42.875 44.328125 \r\nQ 39.84375 48.1875 33.796875 48.1875 \r\nQ 26.515625 48.1875 22.3125 43.546875 \r\nQ 18.109375 38.921875 18.109375 30.90625 \r\nL 18.109375 0 \r\nL 9.078125 0 \r\nL 9.078125 75.984375 \r\nL 18.109375 75.984375 \r\nL 18.109375 46.1875 \r\nQ 21.34375 51.125 25.703125 53.5625 \r\nQ 30.078125 56 35.796875 56 \r\nQ 45.21875 56 50.046875 50.171875 \r\nQ 54.890625 44.34375 54.890625 33.015625 \r\nz\r\n\" id=\"DejaVuSans-104\"/>\r\n     </defs>\r\n     <g transform=\"translate(195.870313 268.034687)scale(0.1 -0.1)\">\r\n      <use xlink:href=\"#DejaVuSans-69\"/>\r\n      <use x=\"63.183594\" xlink:href=\"#DejaVuSans-112\"/>\r\n      <use x=\"126.660156\" xlink:href=\"#DejaVuSans-111\"/>\r\n      <use x=\"187.841797\" xlink:href=\"#DejaVuSans-99\"/>\r\n      <use x=\"242.822266\" xlink:href=\"#DejaVuSans-104\"/>\r\n     </g>\r\n    </g>\r\n   </g>\r\n   <g id=\"matplotlib.axis_2\">\r\n    <g id=\"ytick_1\">\r\n     <g id=\"line2d_7\">\r\n      <defs>\r\n       <path d=\"M 0 0 \r\nL -3.5 0 \r\n\" id=\"m0247ad3ba8\" style=\"stroke:#000000;stroke-width:0.8;\"/>\r\n      </defs>\r\n      <g>\r\n       <use style=\"stroke:#000000;stroke-width:0.8;\" x=\"43.78125\" xlink:href=\"#m0247ad3ba8\" y=\"212.776211\"/>\r\n      </g>\r\n     </g>\r\n     <g id=\"text_8\">\r\n      <!-- 1.0 -->\r\n      <defs>\r\n       <path d=\"M 10.6875 12.40625 \r\nL 21 12.40625 \r\nL 21 0 \r\nL 10.6875 0 \r\nz\r\n\" id=\"DejaVuSans-46\"/>\r\n      </defs>\r\n      <g transform=\"translate(20.878125 216.57543)scale(0.1 -0.1)\">\r\n       <use xlink:href=\"#DejaVuSans-49\"/>\r\n       <use x=\"63.623047\" xlink:href=\"#DejaVuSans-46\"/>\r\n       <use x=\"95.410156\" xlink:href=\"#DejaVuSans-48\"/>\r\n      </g>\r\n     </g>\r\n    </g>\r\n    <g id=\"ytick_2\">\r\n     <g id=\"line2d_8\">\r\n      <g>\r\n       <use style=\"stroke:#000000;stroke-width:0.8;\" x=\"43.78125\" xlink:href=\"#m0247ad3ba8\" y=\"171.944509\"/>\r\n      </g>\r\n     </g>\r\n     <g id=\"text_9\">\r\n      <!-- 1.5 -->\r\n      <g transform=\"translate(20.878125 175.743728)scale(0.1 -0.1)\">\r\n       <use xlink:href=\"#DejaVuSans-49\"/>\r\n       <use x=\"63.623047\" xlink:href=\"#DejaVuSans-46\"/>\r\n       <use x=\"95.410156\" xlink:href=\"#DejaVuSans-53\"/>\r\n      </g>\r\n     </g>\r\n    </g>\r\n    <g id=\"ytick_3\">\r\n     <g id=\"line2d_9\">\r\n      <g>\r\n       <use style=\"stroke:#000000;stroke-width:0.8;\" x=\"43.78125\" xlink:href=\"#m0247ad3ba8\" y=\"131.112807\"/>\r\n      </g>\r\n     </g>\r\n     <g id=\"text_10\">\r\n      <!-- 2.0 -->\r\n      <g transform=\"translate(20.878125 134.912026)scale(0.1 -0.1)\">\r\n       <use xlink:href=\"#DejaVuSans-50\"/>\r\n       <use x=\"63.623047\" xlink:href=\"#DejaVuSans-46\"/>\r\n       <use x=\"95.410156\" xlink:href=\"#DejaVuSans-48\"/>\r\n      </g>\r\n     </g>\r\n    </g>\r\n    <g id=\"ytick_4\">\r\n     <g id=\"line2d_10\">\r\n      <g>\r\n       <use style=\"stroke:#000000;stroke-width:0.8;\" x=\"43.78125\" xlink:href=\"#m0247ad3ba8\" y=\"90.281105\"/>\r\n      </g>\r\n     </g>\r\n     <g id=\"text_11\">\r\n      <!-- 2.5 -->\r\n      <g transform=\"translate(20.878125 94.080324)scale(0.1 -0.1)\">\r\n       <use xlink:href=\"#DejaVuSans-50\"/>\r\n       <use x=\"63.623047\" xlink:href=\"#DejaVuSans-46\"/>\r\n       <use x=\"95.410156\" xlink:href=\"#DejaVuSans-53\"/>\r\n      </g>\r\n     </g>\r\n    </g>\r\n    <g id=\"ytick_5\">\r\n     <g id=\"line2d_11\">\r\n      <g>\r\n       <use style=\"stroke:#000000;stroke-width:0.8;\" x=\"43.78125\" xlink:href=\"#m0247ad3ba8\" y=\"49.449403\"/>\r\n      </g>\r\n     </g>\r\n     <g id=\"text_12\">\r\n      <!-- 3.0 -->\r\n      <g transform=\"translate(20.878125 53.248622)scale(0.1 -0.1)\">\r\n       <use xlink:href=\"#DejaVuSans-51\"/>\r\n       <use x=\"63.623047\" xlink:href=\"#DejaVuSans-46\"/>\r\n       <use x=\"95.410156\" xlink:href=\"#DejaVuSans-48\"/>\r\n      </g>\r\n     </g>\r\n    </g>\r\n    <g id=\"text_13\">\r\n     <!-- Accuracy -->\r\n     <defs>\r\n      <path d=\"M 34.1875 63.1875 \r\nL 20.796875 26.90625 \r\nL 47.609375 26.90625 \r\nz\r\nM 28.609375 72.90625 \r\nL 39.796875 72.90625 \r\nL 67.578125 0 \r\nL 57.328125 0 \r\nL 50.6875 18.703125 \r\nL 17.828125 18.703125 \r\nL 11.1875 0 \r\nL 0.78125 0 \r\nz\r\n\" id=\"DejaVuSans-65\"/>\r\n      <path d=\"M 8.5 21.578125 \r\nL 8.5 54.6875 \r\nL 17.484375 54.6875 \r\nL 17.484375 21.921875 \r\nQ 17.484375 14.15625 20.5 10.265625 \r\nQ 23.53125 6.390625 29.59375 6.390625 \r\nQ 36.859375 6.390625 41.078125 11.03125 \r\nQ 45.3125 15.671875 45.3125 23.6875 \r\nL 45.3125 54.6875 \r\nL 54.296875 54.6875 \r\nL 54.296875 0 \r\nL 45.3125 0 \r\nL 45.3125 8.40625 \r\nQ 42.046875 3.421875 37.71875 1 \r\nQ 33.40625 -1.421875 27.6875 -1.421875 \r\nQ 18.265625 -1.421875 13.375 4.4375 \r\nQ 8.5 10.296875 8.5 21.578125 \r\nz\r\nM 31.109375 56 \r\nz\r\n\" id=\"DejaVuSans-117\"/>\r\n      <path d=\"M 41.109375 46.296875 \r\nQ 39.59375 47.171875 37.8125 47.578125 \r\nQ 36.03125 48 33.890625 48 \r\nQ 26.265625 48 22.1875 43.046875 \r\nQ 18.109375 38.09375 18.109375 28.8125 \r\nL 18.109375 0 \r\nL 9.078125 0 \r\nL 9.078125 54.6875 \r\nL 18.109375 54.6875 \r\nL 18.109375 46.1875 \r\nQ 20.953125 51.171875 25.484375 53.578125 \r\nQ 30.03125 56 36.53125 56 \r\nQ 37.453125 56 38.578125 55.875 \r\nQ 39.703125 55.765625 41.0625 55.515625 \r\nz\r\n\" id=\"DejaVuSans-114\"/>\r\n      <path d=\"M 34.28125 27.484375 \r\nQ 23.390625 27.484375 19.1875 25 \r\nQ 14.984375 22.515625 14.984375 16.5 \r\nQ 14.984375 11.71875 18.140625 8.90625 \r\nQ 21.296875 6.109375 26.703125 6.109375 \r\nQ 34.1875 6.109375 38.703125 11.40625 \r\nQ 43.21875 16.703125 43.21875 25.484375 \r\nL 43.21875 27.484375 \r\nz\r\nM 52.203125 31.203125 \r\nL 52.203125 0 \r\nL 43.21875 0 \r\nL 43.21875 8.296875 \r\nQ 40.140625 3.328125 35.546875 0.953125 \r\nQ 30.953125 -1.421875 24.3125 -1.421875 \r\nQ 15.921875 -1.421875 10.953125 3.296875 \r\nQ 6 8.015625 6 15.921875 \r\nQ 6 25.140625 12.171875 29.828125 \r\nQ 18.359375 34.515625 30.609375 34.515625 \r\nL 43.21875 34.515625 \r\nL 43.21875 35.40625 \r\nQ 43.21875 41.609375 39.140625 45 \r\nQ 35.0625 48.390625 27.6875 48.390625 \r\nQ 23 48.390625 18.546875 47.265625 \r\nQ 14.109375 46.140625 10.015625 43.890625 \r\nL 10.015625 52.203125 \r\nQ 14.9375 54.109375 19.578125 55.046875 \r\nQ 24.21875 56 28.609375 56 \r\nQ 40.484375 56 46.34375 49.84375 \r\nQ 52.203125 43.703125 52.203125 31.203125 \r\nz\r\n\" id=\"DejaVuSans-97\"/>\r\n      <path d=\"M 32.171875 -5.078125 \r\nQ 28.375 -14.84375 24.75 -17.8125 \r\nQ 21.140625 -20.796875 15.09375 -20.796875 \r\nL 7.90625 -20.796875 \r\nL 7.90625 -13.28125 \r\nL 13.1875 -13.28125 \r\nQ 16.890625 -13.28125 18.9375 -11.515625 \r\nQ 21 -9.765625 23.484375 -3.21875 \r\nL 25.09375 0.875 \r\nL 2.984375 54.6875 \r\nL 12.5 54.6875 \r\nL 29.59375 11.921875 \r\nL 46.6875 54.6875 \r\nL 56.203125 54.6875 \r\nz\r\n\" id=\"DejaVuSans-121\"/>\r\n     </defs>\r\n     <g transform=\"translate(14.798438 153.86625)rotate(-90)scale(0.1 -0.1)\">\r\n      <use xlink:href=\"#DejaVuSans-65\"/>\r\n      <use x=\"66.658203\" xlink:href=\"#DejaVuSans-99\"/>\r\n      <use x=\"121.638672\" xlink:href=\"#DejaVuSans-99\"/>\r\n      <use x=\"176.619141\" xlink:href=\"#DejaVuSans-117\"/>\r\n      <use x=\"239.998047\" xlink:href=\"#DejaVuSans-114\"/>\r\n      <use x=\"281.111328\" xlink:href=\"#DejaVuSans-97\"/>\r\n      <use x=\"342.390625\" xlink:href=\"#DejaVuSans-99\"/>\r\n      <use x=\"397.371094\" xlink:href=\"#DejaVuSans-121\"/>\r\n     </g>\r\n    </g>\r\n   </g>\r\n   <g id=\"line2d_12\">\r\n    <path clip-path=\"url(#p95dd31b0ee)\" d=\"M 58.999432 226.199634 \r\nL 65.210935 227.727933 \r\nL 71.422437 225.858971 \r\nL 77.63394 226.014717 \r\nL 83.845443 226.326209 \r\nL 90.056946 226.710027 \r\nL 96.268449 226.48196 \r\nL 102.479951 226.741535 \r\nL 108.691454 226.326209 \r\nL 114.902957 227.416441 \r\nL 121.11446 226.965227 \r\nL 127.325962 225.740277 \r\nL 133.537465 225.391728 \r\nL 139.748968 227.067308 \r\nL 145.960471 227.208778 \r\nL 152.171974 226.741535 \r\nL 158.383476 226.761068 \r\nL 164.594979 226.352752 \r\nL 170.806482 226.845369 \r\nL 177.017985 226.637706 \r\nL 183.229487 226.689623 \r\nL 189.44099 226.710027 \r\nL 195.652493 227.104944 \r\nL 201.863996 226.148593 \r\nL 208.075499 226.250675 \r\nL 214.287001 225.910883 \r\nL 220.498504 227.053032 \r\nL 226.710007 226.637706 \r\nL 232.92151 226.250675 \r\nL 239.133013 226.48196 \r\nL 245.344515 226.403792 \r\nL 251.556018 227.156861 \r\nL 257.767521 227.169385 \r\nL 263.979024 226.430043 \r\nL 270.190526 227.016267 \r\nL 276.402029 226.430043 \r\nL 282.613532 227.220426 \r\nL 288.825035 226.148593 \r\nL 295.036538 227.016267 \r\nL 301.24804 226.812109 \r\nL 307.459543 226.378126 \r\nL 313.671046 226.812109 \r\nL 319.882549 226.741535 \r\nL 326.094051 225.9628 \r\nL 332.305554 226.637706 \r\nL 338.517057 226.454833 \r\nL 344.72856 225.6382 \r\nL 350.940063 226.793452 \r\nL 357.151565 226.148593 \r\nL 363.363068 227.067308 \r\n\" style=\"fill:none;stroke:#1f77b4;stroke-linecap:square;stroke-width:1.5;\"/>\r\n   </g>\r\n   <g id=\"line2d_13\">\r\n    <path clip-path=\"url(#p95dd31b0ee)\" d=\"M 58.999432 227.832901 \r\nL 65.210935 225.280919 \r\nL 71.422437 225.791317 \r\nL 77.63394 227.067308 \r\nL 83.845443 228.343299 \r\nL 90.056946 227.067308 \r\nL 96.268449 226.301711 \r\nL 102.479951 227.832901 \r\nL 108.691454 226.812109 \r\nL 114.902957 225.02572 \r\nL 121.11446 226.046517 \r\nL 127.325962 228.0881 \r\nL 133.537465 228.598498 \r\nL 139.748968 226.55691 \r\nL 145.960471 226.55691 \r\nL 152.171974 228.0881 \r\nL 158.383476 229.874489 \r\nL 164.594979 224.260128 \r\nL 170.806482 226.046517 \r\nL 177.017985 228.0881 \r\nL 183.229487 228.0881 \r\nL 189.44099 226.046517 \r\nL 195.652493 227.067308 \r\nL 201.863996 227.067308 \r\nL 208.075499 225.791317 \r\nL 214.287001 227.322507 \r\nL 220.498504 225.02572 \r\nL 226.710007 228.343299 \r\nL 232.92151 226.301711 \r\nL 239.133013 226.301711 \r\nL 245.344515 227.322507 \r\nL 251.556018 223.749729 \r\nL 257.767521 226.55691 \r\nL 263.979024 226.55691 \r\nL 270.190526 225.280919 \r\nL 276.402029 228.853692 \r\nL 282.613532 227.322507 \r\nL 288.825035 227.067308 \r\nL 295.036538 226.046517 \r\nL 301.24804 228.853692 \r\nL 307.459543 225.280919 \r\nL 313.671046 229.108891 \r\nL 319.882549 225.791317 \r\nL 326.094051 227.577702 \r\nL 332.305554 225.280919 \r\nL 338.517057 227.832901 \r\nL 344.72856 229.108891 \r\nL 350.940063 225.536118 \r\nL 357.151565 225.280919 \r\nL 363.363068 226.55691 \r\n\" style=\"fill:none;stroke:#ff7f0e;stroke-linecap:square;stroke-width:1.5;\"/>\r\n   </g>\r\n   <g id=\"line2d_14\">\r\n    <path clip-path=\"url(#p95dd31b0ee)\" d=\"M 58.999432 92.29616 \r\nL 65.210935 65.12363 \r\nL 71.422437 93.788133 \r\nL 77.63394 91.399466 \r\nL 83.845443 86.622036 \r\nL 90.056946 80.735357 \r\nL 96.268449 84.233311 \r\nL 102.479951 80.25209 \r\nL 108.691454 86.622056 \r\nL 114.902957 69.901079 \r\nL 121.11446 76.821366 \r\nL 127.325962 95.608546 \r\nL 133.537465 100.954268 \r\nL 139.748968 75.255758 \r\nL 145.960471 73.086033 \r\nL 152.171974 80.252129 \r\nL 158.383476 79.952543 \r\nL 164.594979 86.214936 \r\nL 170.806482 78.659672 \r\nL 177.017985 81.844625 \r\nL 183.229487 81.048377 \r\nL 189.44099 80.735357 \r\nL 195.652493 74.678509 \r\nL 201.863996 89.346172 \r\nL 208.075499 87.780583 \r\nL 214.287001 92.991885 \r\nL 220.498504 75.47468 \r\nL 226.710007 81.844567 \r\nL 232.92151 87.780525 \r\nL 239.133013 84.233311 \r\nL 245.344515 85.432142 \r\nL 251.556018 73.882261 \r\nL 257.767521 73.690189 \r\nL 263.979024 85.02954 \r\nL 270.190526 76.038591 \r\nL 276.402029 85.02954 \r\nL 282.613532 72.907395 \r\nL 288.825035 89.346191 \r\nL 295.036538 76.038533 \r\nL 301.24804 79.169749 \r\nL 307.459543 85.825788 \r\nL 313.671046 79.169749 \r\nL 319.882549 80.252149 \r\nL 326.094051 92.195714 \r\nL 332.305554 81.844606 \r\nL 338.517057 84.649367 \r\nL 344.72856 97.174154 \r\nL 350.940063 79.455901 \r\nL 357.151565 89.346152 \r\nL 363.363068 75.255758 \r\n\" style=\"fill:none;stroke:#2ca02c;stroke-linecap:square;stroke-width:1.5;\"/>\r\n   </g>\r\n   <g id=\"line2d_15\">\r\n    <path clip-path=\"url(#p95dd31b0ee)\" d=\"M 58.999432 63.513727 \r\nL 65.210935 102.653733 \r\nL 71.422437 94.825712 \r\nL 77.63394 75.255719 \r\nL 83.845443 55.685706 \r\nL 90.056946 75.255719 \r\nL 96.268449 86.997711 \r\nL 102.479951 63.513747 \r\nL 108.691454 79.16971 \r\nL 114.902957 106.567724 \r\nL 121.11446 90.911721 \r\nL 127.325962 59.599736 \r\nL 133.537465 51.771735 \r\nL 139.748968 83.08372 \r\nL 145.960471 83.08372 \r\nL 152.171974 59.599736 \r\nL 158.383476 32.201761 \r\nL 164.594979 118.309716 \r\nL 170.806482 90.911721 \r\nL 177.017985 59.599736 \r\nL 183.229487 59.599736 \r\nL 189.44099 90.911721 \r\nL 195.652493 75.255719 \r\nL 201.863996 75.255719 \r\nL 208.075499 94.825732 \r\nL 214.287001 71.341748 \r\nL 220.498504 106.567704 \r\nL 226.710007 55.685745 \r\nL 232.92151 86.997731 \r\nL 239.133013 86.997731 \r\nL 245.344515 71.341748 \r\nL 251.556018 126.137698 \r\nL 257.767521 83.08374 \r\nL 263.979024 83.083701 \r\nL 270.190526 102.653713 \r\nL 276.402029 47.857744 \r\nL 282.613532 71.341748 \r\nL 288.825035 75.255719 \r\nL 295.036538 90.911721 \r\nL 301.24804 47.857744 \r\nL 307.459543 102.653733 \r\nL 313.671046 43.943773 \r\nL 319.882549 94.825732 \r\nL 326.094051 67.427718 \r\nL 332.305554 102.653713 \r\nL 338.517057 63.513747 \r\nL 344.72856 43.943734 \r\nL 350.940063 98.739723 \r\nL 357.151565 102.653713 \r\nL 363.363068 83.08372 \r\n\" style=\"fill:none;stroke:#d62728;stroke-linecap:square;stroke-width:1.5;\"/>\r\n   </g>\r\n   <g id=\"patch_3\">\r\n    <path d=\"M 43.78125 239.758125 \r\nL 43.78125 22.318125 \r\n\" style=\"fill:none;stroke:#000000;stroke-linecap:square;stroke-linejoin:miter;stroke-width:0.8;\"/>\r\n   </g>\r\n   <g id=\"patch_4\">\r\n    <path d=\"M 378.58125 239.758125 \r\nL 378.58125 22.318125 \r\n\" style=\"fill:none;stroke:#000000;stroke-linecap:square;stroke-linejoin:miter;stroke-width:0.8;\"/>\r\n   </g>\r\n   <g id=\"patch_5\">\r\n    <path d=\"M 43.78125 239.758125 \r\nL 378.58125 239.758125 \r\n\" style=\"fill:none;stroke:#000000;stroke-linecap:square;stroke-linejoin:miter;stroke-width:0.8;\"/>\r\n   </g>\r\n   <g id=\"patch_6\">\r\n    <path d=\"M 43.78125 22.318125 \r\nL 378.58125 22.318125 \r\n\" style=\"fill:none;stroke:#000000;stroke-linecap:square;stroke-linejoin:miter;stroke-width:0.8;\"/>\r\n   </g>\r\n   <g id=\"text_14\">\r\n    <!-- model accuracy -->\r\n    <defs>\r\n     <path d=\"M 52 44.1875 \r\nQ 55.375 50.25 60.0625 53.125 \r\nQ 64.75 56 71.09375 56 \r\nQ 79.640625 56 84.28125 50.015625 \r\nQ 88.921875 44.046875 88.921875 33.015625 \r\nL 88.921875 0 \r\nL 79.890625 0 \r\nL 79.890625 32.71875 \r\nQ 79.890625 40.578125 77.09375 44.375 \r\nQ 74.3125 48.1875 68.609375 48.1875 \r\nQ 61.625 48.1875 57.5625 43.546875 \r\nQ 53.515625 38.921875 53.515625 30.90625 \r\nL 53.515625 0 \r\nL 44.484375 0 \r\nL 44.484375 32.71875 \r\nQ 44.484375 40.625 41.703125 44.40625 \r\nQ 38.921875 48.1875 33.109375 48.1875 \r\nQ 26.21875 48.1875 22.15625 43.53125 \r\nQ 18.109375 38.875 18.109375 30.90625 \r\nL 18.109375 0 \r\nL 9.078125 0 \r\nL 9.078125 54.6875 \r\nL 18.109375 54.6875 \r\nL 18.109375 46.1875 \r\nQ 21.1875 51.21875 25.484375 53.609375 \r\nQ 29.78125 56 35.6875 56 \r\nQ 41.65625 56 45.828125 52.96875 \r\nQ 50 49.953125 52 44.1875 \r\nz\r\n\" id=\"DejaVuSans-109\"/>\r\n     <path d=\"M 45.40625 46.390625 \r\nL 45.40625 75.984375 \r\nL 54.390625 75.984375 \r\nL 54.390625 0 \r\nL 45.40625 0 \r\nL 45.40625 8.203125 \r\nQ 42.578125 3.328125 38.25 0.953125 \r\nQ 33.9375 -1.421875 27.875 -1.421875 \r\nQ 17.96875 -1.421875 11.734375 6.484375 \r\nQ 5.515625 14.40625 5.515625 27.296875 \r\nQ 5.515625 40.1875 11.734375 48.09375 \r\nQ 17.96875 56 27.875 56 \r\nQ 33.9375 56 38.25 53.625 \r\nQ 42.578125 51.265625 45.40625 46.390625 \r\nz\r\nM 14.796875 27.296875 \r\nQ 14.796875 17.390625 18.875 11.75 \r\nQ 22.953125 6.109375 30.078125 6.109375 \r\nQ 37.203125 6.109375 41.296875 11.75 \r\nQ 45.40625 17.390625 45.40625 27.296875 \r\nQ 45.40625 37.203125 41.296875 42.84375 \r\nQ 37.203125 48.484375 30.078125 48.484375 \r\nQ 22.953125 48.484375 18.875 42.84375 \r\nQ 14.796875 37.203125 14.796875 27.296875 \r\nz\r\n\" id=\"DejaVuSans-100\"/>\r\n     <path d=\"M 56.203125 29.59375 \r\nL 56.203125 25.203125 \r\nL 14.890625 25.203125 \r\nQ 15.484375 15.921875 20.484375 11.0625 \r\nQ 25.484375 6.203125 34.421875 6.203125 \r\nQ 39.59375 6.203125 44.453125 7.46875 \r\nQ 49.3125 8.734375 54.109375 11.28125 \r\nL 54.109375 2.78125 \r\nQ 49.265625 0.734375 44.1875 -0.34375 \r\nQ 39.109375 -1.421875 33.890625 -1.421875 \r\nQ 20.796875 -1.421875 13.15625 6.1875 \r\nQ 5.515625 13.8125 5.515625 26.8125 \r\nQ 5.515625 40.234375 12.765625 48.109375 \r\nQ 20.015625 56 32.328125 56 \r\nQ 43.359375 56 49.78125 48.890625 \r\nQ 56.203125 41.796875 56.203125 29.59375 \r\nz\r\nM 47.21875 32.234375 \r\nQ 47.125 39.59375 43.09375 43.984375 \r\nQ 39.0625 48.390625 32.421875 48.390625 \r\nQ 24.90625 48.390625 20.390625 44.140625 \r\nQ 15.875 39.890625 15.1875 32.171875 \r\nz\r\n\" id=\"DejaVuSans-101\"/>\r\n     <path d=\"M 9.421875 75.984375 \r\nL 18.40625 75.984375 \r\nL 18.40625 0 \r\nL 9.421875 0 \r\nz\r\n\" id=\"DejaVuSans-108\"/>\r\n     <path id=\"DejaVuSans-32\"/>\r\n    </defs>\r\n    <g transform=\"translate(163.519688 16.318125)scale(0.12 -0.12)\">\r\n     <use xlink:href=\"#DejaVuSans-109\"/>\r\n     <use x=\"97.412109\" xlink:href=\"#DejaVuSans-111\"/>\r\n     <use x=\"158.59375\" xlink:href=\"#DejaVuSans-100\"/>\r\n     <use x=\"222.070312\" xlink:href=\"#DejaVuSans-101\"/>\r\n     <use x=\"283.59375\" xlink:href=\"#DejaVuSans-108\"/>\r\n     <use x=\"311.376953\" xlink:href=\"#DejaVuSans-32\"/>\r\n     <use x=\"343.164062\" xlink:href=\"#DejaVuSans-97\"/>\r\n     <use x=\"404.443359\" xlink:href=\"#DejaVuSans-99\"/>\r\n     <use x=\"459.423828\" xlink:href=\"#DejaVuSans-99\"/>\r\n     <use x=\"514.404297\" xlink:href=\"#DejaVuSans-117\"/>\r\n     <use x=\"577.783203\" xlink:href=\"#DejaVuSans-114\"/>\r\n     <use x=\"618.896484\" xlink:href=\"#DejaVuSans-97\"/>\r\n     <use x=\"680.175781\" xlink:href=\"#DejaVuSans-99\"/>\r\n     <use x=\"735.15625\" xlink:href=\"#DejaVuSans-121\"/>\r\n    </g>\r\n   </g>\r\n   <g id=\"legend_1\">\r\n    <g id=\"patch_7\">\r\n     <path d=\"M 146.073438 161.894375 \r\nL 276.289062 161.894375 \r\nQ 278.289062 161.894375 278.289062 159.894375 \r\nL 278.289062 102.181875 \r\nQ 278.289062 100.181875 276.289062 100.181875 \r\nL 146.073438 100.181875 \r\nQ 144.073438 100.181875 144.073438 102.181875 \r\nL 144.073438 159.894375 \r\nQ 144.073438 161.894375 146.073438 161.894375 \r\nz\r\n\" style=\"fill:#ffffff;opacity:0.8;stroke:#cccccc;stroke-linejoin:miter;\"/>\r\n    </g>\r\n    <g id=\"line2d_16\">\r\n     <path d=\"M 148.073438 108.280312 \r\nL 168.073438 108.280312 \r\n\" style=\"fill:none;stroke:#1f77b4;stroke-linecap:square;stroke-width:1.5;\"/>\r\n    </g>\r\n    <g id=\"line2d_17\"/>\r\n    <g id=\"text_15\">\r\n     <!-- Accuracy -->\r\n     <g transform=\"translate(176.073438 111.780312)scale(0.1 -0.1)\">\r\n      <use xlink:href=\"#DejaVuSans-65\"/>\r\n      <use x=\"66.658203\" xlink:href=\"#DejaVuSans-99\"/>\r\n      <use x=\"121.638672\" xlink:href=\"#DejaVuSans-99\"/>\r\n      <use x=\"176.619141\" xlink:href=\"#DejaVuSans-117\"/>\r\n      <use x=\"239.998047\" xlink:href=\"#DejaVuSans-114\"/>\r\n      <use x=\"281.111328\" xlink:href=\"#DejaVuSans-97\"/>\r\n      <use x=\"342.390625\" xlink:href=\"#DejaVuSans-99\"/>\r\n      <use x=\"397.371094\" xlink:href=\"#DejaVuSans-121\"/>\r\n     </g>\r\n    </g>\r\n    <g id=\"line2d_18\">\r\n     <path d=\"M 148.073438 122.958437 \r\nL 168.073438 122.958437 \r\n\" style=\"fill:none;stroke:#ff7f0e;stroke-linecap:square;stroke-width:1.5;\"/>\r\n    </g>\r\n    <g id=\"line2d_19\"/>\r\n    <g id=\"text_16\">\r\n     <!-- Validation Accuracy -->\r\n     <defs>\r\n      <path d=\"M 28.609375 0 \r\nL 0.78125 72.90625 \r\nL 11.078125 72.90625 \r\nL 34.1875 11.53125 \r\nL 57.328125 72.90625 \r\nL 67.578125 72.90625 \r\nL 39.796875 0 \r\nz\r\n\" id=\"DejaVuSans-86\"/>\r\n      <path d=\"M 9.421875 54.6875 \r\nL 18.40625 54.6875 \r\nL 18.40625 0 \r\nL 9.421875 0 \r\nz\r\nM 9.421875 75.984375 \r\nL 18.40625 75.984375 \r\nL 18.40625 64.59375 \r\nL 9.421875 64.59375 \r\nz\r\n\" id=\"DejaVuSans-105\"/>\r\n      <path d=\"M 18.3125 70.21875 \r\nL 18.3125 54.6875 \r\nL 36.8125 54.6875 \r\nL 36.8125 47.703125 \r\nL 18.3125 47.703125 \r\nL 18.3125 18.015625 \r\nQ 18.3125 11.328125 20.140625 9.421875 \r\nQ 21.96875 7.515625 27.59375 7.515625 \r\nL 36.8125 7.515625 \r\nL 36.8125 0 \r\nL 27.59375 0 \r\nQ 17.1875 0 13.234375 3.875 \r\nQ 9.28125 7.765625 9.28125 18.015625 \r\nL 9.28125 47.703125 \r\nL 2.6875 47.703125 \r\nL 2.6875 54.6875 \r\nL 9.28125 54.6875 \r\nL 9.28125 70.21875 \r\nz\r\n\" id=\"DejaVuSans-116\"/>\r\n      <path d=\"M 54.890625 33.015625 \r\nL 54.890625 0 \r\nL 45.90625 0 \r\nL 45.90625 32.71875 \r\nQ 45.90625 40.484375 42.875 44.328125 \r\nQ 39.84375 48.1875 33.796875 48.1875 \r\nQ 26.515625 48.1875 22.3125 43.546875 \r\nQ 18.109375 38.921875 18.109375 30.90625 \r\nL 18.109375 0 \r\nL 9.078125 0 \r\nL 9.078125 54.6875 \r\nL 18.109375 54.6875 \r\nL 18.109375 46.1875 \r\nQ 21.34375 51.125 25.703125 53.5625 \r\nQ 30.078125 56 35.796875 56 \r\nQ 45.21875 56 50.046875 50.171875 \r\nQ 54.890625 44.34375 54.890625 33.015625 \r\nz\r\n\" id=\"DejaVuSans-110\"/>\r\n     </defs>\r\n     <g transform=\"translate(176.073438 126.458437)scale(0.1 -0.1)\">\r\n      <use xlink:href=\"#DejaVuSans-86\"/>\r\n      <use x=\"60.658203\" xlink:href=\"#DejaVuSans-97\"/>\r\n      <use x=\"121.9375\" xlink:href=\"#DejaVuSans-108\"/>\r\n      <use x=\"149.720703\" xlink:href=\"#DejaVuSans-105\"/>\r\n      <use x=\"177.503906\" xlink:href=\"#DejaVuSans-100\"/>\r\n      <use x=\"240.980469\" xlink:href=\"#DejaVuSans-97\"/>\r\n      <use x=\"302.259766\" xlink:href=\"#DejaVuSans-116\"/>\r\n      <use x=\"341.46875\" xlink:href=\"#DejaVuSans-105\"/>\r\n      <use x=\"369.251953\" xlink:href=\"#DejaVuSans-111\"/>\r\n      <use x=\"430.433594\" xlink:href=\"#DejaVuSans-110\"/>\r\n      <use x=\"493.8125\" xlink:href=\"#DejaVuSans-32\"/>\r\n      <use x=\"525.599609\" xlink:href=\"#DejaVuSans-65\"/>\r\n      <use x=\"592.257812\" xlink:href=\"#DejaVuSans-99\"/>\r\n      <use x=\"647.238281\" xlink:href=\"#DejaVuSans-99\"/>\r\n      <use x=\"702.21875\" xlink:href=\"#DejaVuSans-117\"/>\r\n      <use x=\"765.597656\" xlink:href=\"#DejaVuSans-114\"/>\r\n      <use x=\"806.710938\" xlink:href=\"#DejaVuSans-97\"/>\r\n      <use x=\"867.990234\" xlink:href=\"#DejaVuSans-99\"/>\r\n      <use x=\"922.970703\" xlink:href=\"#DejaVuSans-121\"/>\r\n     </g>\r\n    </g>\r\n    <g id=\"line2d_20\">\r\n     <path d=\"M 148.073438 137.636562 \r\nL 168.073438 137.636562 \r\n\" style=\"fill:none;stroke:#2ca02c;stroke-linecap:square;stroke-width:1.5;\"/>\r\n    </g>\r\n    <g id=\"line2d_21\"/>\r\n    <g id=\"text_17\">\r\n     <!-- loss -->\r\n     <defs>\r\n      <path d=\"M 44.28125 53.078125 \r\nL 44.28125 44.578125 \r\nQ 40.484375 46.53125 36.375 47.5 \r\nQ 32.28125 48.484375 27.875 48.484375 \r\nQ 21.1875 48.484375 17.84375 46.4375 \r\nQ 14.5 44.390625 14.5 40.28125 \r\nQ 14.5 37.15625 16.890625 35.375 \r\nQ 19.28125 33.59375 26.515625 31.984375 \r\nL 29.59375 31.296875 \r\nQ 39.15625 29.25 43.1875 25.515625 \r\nQ 47.21875 21.78125 47.21875 15.09375 \r\nQ 47.21875 7.46875 41.1875 3.015625 \r\nQ 35.15625 -1.421875 24.609375 -1.421875 \r\nQ 20.21875 -1.421875 15.453125 -0.5625 \r\nQ 10.6875 0.296875 5.421875 2 \r\nL 5.421875 11.28125 \r\nQ 10.40625 8.6875 15.234375 7.390625 \r\nQ 20.0625 6.109375 24.8125 6.109375 \r\nQ 31.15625 6.109375 34.5625 8.28125 \r\nQ 37.984375 10.453125 37.984375 14.40625 \r\nQ 37.984375 18.0625 35.515625 20.015625 \r\nQ 33.0625 21.96875 24.703125 23.78125 \r\nL 21.578125 24.515625 \r\nQ 13.234375 26.265625 9.515625 29.90625 \r\nQ 5.8125 33.546875 5.8125 39.890625 \r\nQ 5.8125 47.609375 11.28125 51.796875 \r\nQ 16.75 56 26.8125 56 \r\nQ 31.78125 56 36.171875 55.265625 \r\nQ 40.578125 54.546875 44.28125 53.078125 \r\nz\r\n\" id=\"DejaVuSans-115\"/>\r\n     </defs>\r\n     <g transform=\"translate(176.073438 141.136562)scale(0.1 -0.1)\">\r\n      <use xlink:href=\"#DejaVuSans-108\"/>\r\n      <use x=\"27.783203\" xlink:href=\"#DejaVuSans-111\"/>\r\n      <use x=\"88.964844\" xlink:href=\"#DejaVuSans-115\"/>\r\n      <use x=\"141.064453\" xlink:href=\"#DejaVuSans-115\"/>\r\n     </g>\r\n    </g>\r\n    <g id=\"line2d_22\">\r\n     <path d=\"M 148.073438 152.314687 \r\nL 168.073438 152.314687 \r\n\" style=\"fill:none;stroke:#d62728;stroke-linecap:square;stroke-width:1.5;\"/>\r\n    </g>\r\n    <g id=\"line2d_23\"/>\r\n    <g id=\"text_18\">\r\n     <!-- Validation Loss -->\r\n     <defs>\r\n      <path d=\"M 9.8125 72.90625 \r\nL 19.671875 72.90625 \r\nL 19.671875 8.296875 \r\nL 55.171875 8.296875 \r\nL 55.171875 0 \r\nL 9.8125 0 \r\nz\r\n\" id=\"DejaVuSans-76\"/>\r\n     </defs>\r\n     <g transform=\"translate(176.073438 155.814687)scale(0.1 -0.1)\">\r\n      <use xlink:href=\"#DejaVuSans-86\"/>\r\n      <use x=\"60.658203\" xlink:href=\"#DejaVuSans-97\"/>\r\n      <use x=\"121.9375\" xlink:href=\"#DejaVuSans-108\"/>\r\n      <use x=\"149.720703\" xlink:href=\"#DejaVuSans-105\"/>\r\n      <use x=\"177.503906\" xlink:href=\"#DejaVuSans-100\"/>\r\n      <use x=\"240.980469\" xlink:href=\"#DejaVuSans-97\"/>\r\n      <use x=\"302.259766\" xlink:href=\"#DejaVuSans-116\"/>\r\n      <use x=\"341.46875\" xlink:href=\"#DejaVuSans-105\"/>\r\n      <use x=\"369.251953\" xlink:href=\"#DejaVuSans-111\"/>\r\n      <use x=\"430.433594\" xlink:href=\"#DejaVuSans-110\"/>\r\n      <use x=\"493.8125\" xlink:href=\"#DejaVuSans-32\"/>\r\n      <use x=\"525.599609\" xlink:href=\"#DejaVuSans-76\"/>\r\n      <use x=\"579.5625\" xlink:href=\"#DejaVuSans-111\"/>\r\n      <use x=\"640.744141\" xlink:href=\"#DejaVuSans-115\"/>\r\n      <use x=\"692.84375\" xlink:href=\"#DejaVuSans-115\"/>\r\n     </g>\r\n    </g>\r\n   </g>\r\n  </g>\r\n </g>\r\n <defs>\r\n  <clipPath id=\"p95dd31b0ee\">\r\n   <rect height=\"217.44\" width=\"334.8\" x=\"43.78125\" y=\"22.318125\"/>\r\n  </clipPath>\r\n </defs>\r\n</svg>\r\n",
      "image/png": "[encoded data removed]"
     },
     "metadata": {
      "needs_background": "light"
     }
    }
   ],
   "source": [
    "plt.plot(hist.history[\"accuracy\"])\n",
    "plt.plot(hist.history['val_accuracy'])\n",
    "plt.plot(hist.history['loss'])\n",
    "plt.plot(hist.history['val_loss'])\n",
    "plt.title(\"model accuracy\")\n",
    "plt.ylabel(\"Accuracy\")\n",
    "plt.xlabel(\"Epoch\")\n",
    "plt.legend([\"Accuracy\",\"Validation Accuracy\",\"loss\",\"Validation Loss\"])\n",
    "plt.show()"
   ]
  },
  {
   "source": [
    "## Thus, after training, our model has an Accuracy of 86.56%"
   ],
   "cell_type": "markdown",
   "metadata": {}
  },
  {
   "source": [
    "### Lets load the best saved model and then make our predictions using Prediction Images."
   ],
   "cell_type": "markdown",
   "metadata": {}
  },
  {
   "cell_type": "code",
   "execution_count": 6,
   "metadata": {},
   "outputs": [],
   "source": [
    "#Loading our saved model\n",
    "from keras.models import load_model\n",
    "vgg16 = load_model(\"vgg16_1.h5\")\n",
    "\n",
    "#Making Predictions\n",
    "pred = {}\n",
    "for fl in listdir(os.path.join(predict_path,'Yes')):    \n",
    "    img = image.load_img(os.path.join(predict_path,'Yes',fl))\n",
    "    img = np.asarray(img)\n",
    "    img = np.expand_dims(img, axis=0)\n",
    "    output = vgg16.predict(img)\n",
    "    if(output[0][0] > output[0][1]):\n",
    "        pred[fl] = 'N'\n",
    "    else:\n",
    "        pred[fl] = 'Y'\n",
    "for fl in listdir(os.path.join(predict_path,'No')):    \n",
    "    img = image.load_img(os.path.join(predict_path,'No',fl))\n",
    "    img = np.asarray(img)\n",
    "    img = np.expand_dims(img, axis=0)\n",
    "    output = vgg16.predict(img)\n",
    "    if(output[0][0] > output[0][1]):\n",
    "        pred[fl] = 'Y'\n",
    "    else:\n",
    "        pred[fl] = 'N'"
   ]
  },
  {
   "cell_type": "code",
   "execution_count": 7,
   "metadata": {},
   "outputs": [
    {
     "output_type": "stream",
     "name": "stdout",
     "text": [
      "{'Y_1.JPG': 'Y', 'Y_10.JPG': 'Y', 'Y_11.JPG': 'Y', 'Y_12.JPG': 'Y', 'Y_13.JPG': 'Y', 'Y_14.JPG': 'Y', 'Y_15.JPG': 'Y', 'Y_16.JPG': 'Y', 'Y_17.JPG': 'Y', 'Y_18.JPG': 'Y', 'Y_19.JPG': 'Y', 'Y_2.JPG': 'Y', 'Y_20.JPG': 'Y', 'Y_3.JPG': 'Y', 'Y_4.JPG': 'Y', 'Y_5.JPG': 'Y', 'Y_6.JPG': 'Y', 'Y_7.JPG': 'Y', 'Y_8.JPG': 'Y', 'Y_9.JPG': 'Y', 'N_1.JPG': 'N', 'N_10.JPG': 'N', 'N_11.JPG': 'N', 'N_12.JPG': 'N', 'N_13.JPG': 'N', 'N_14.JPG': 'N', 'N_15.JPG': 'N', 'N_16.JPG': 'N', 'N_17.JPG': 'N', 'N_18.JPG': 'N', 'N_19.JPG': 'N', 'N_2.JPG': 'N', 'N_20.JPG': 'N', 'N_3.JPG': 'N', 'N_4.JPG': 'N', 'N_5.JPG': 'N', 'N_6.JPG': 'N', 'N_7.JPG': 'N', 'N_8.JPG': 'N', 'N_9.JPG': 'N'}\n"
     ]
    }
   ],
   "source": [
    "print(pred)"
   ]
  },
  {
   "cell_type": "code",
   "execution_count": 12,
   "metadata": {},
   "outputs": [
    {
     "output_type": "stream",
     "name": "stdout",
     "text": [
      "Correct Classification: 40\nIncorrect Classification: 0\n"
     ]
    }
   ],
   "source": [
    "# Counting the Images classified Correctly and Incorrectly.\n",
    "correct = 0\n",
    "wrong = 0\n",
    "for key,val in pred.items():\n",
    "    if(key[0] == val):\n",
    "        correct += 1\n",
    "    else:\n",
    "        wrong += 1\n",
    "print(\"Correct Classification: \" + str(correct))\n",
    "print(\"Incorrect Classification: \" + str(wrong))"
   ]
  },
  {
   "source": [
    "## Thus, it looks like Our created model was able to classify all the Images for prediction Correctly."
   ],
   "cell_type": "markdown",
   "metadata": {}
  }
 ]
}